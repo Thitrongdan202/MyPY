{
 "cells": [
  {
   "cell_type": "code",
   "execution_count": null,
   "id": "aa66feb2-3f56-46e0-8f16-6a30a3e8f9c1",
   "metadata": {},
   "outputs": [],
   "source": []
  },
  {
   "cell_type": "markdown",
   "id": "34fa5f98-a057-4cca-b936-851a88b22df7",
   "metadata": {},
   "source": [
    "# I. Những điều cần biết trước lúc học python"
   ]
  },
  {
   "cell_type": "markdown",
   "id": "809850ea-0534-4c04-9cf3-ffe194d2379c",
   "metadata": {},
   "source": [
    "## Vấn đề 1"
   ]
  },
  {
   "cell_type": "code",
   "execution_count": null,
   "id": "0473911b-943b-4c10-8d44-f8f36702ec2d",
   "metadata": {},
   "outputs": [],
   "source": [
    "x2 = 10.0; x = 5; x1 = 7.8"
   ]
  },
  {
   "cell_type": "code",
   "execution_count": null,
   "id": "22d4854f-3066-4df8-b50c-73760fa6035a",
   "metadata": {},
   "outputs": [],
   "source": [
    "y = 3.3"
   ]
  },
  {
   "cell_type": "code",
   "execution_count": null,
   "id": "bb3b560f-ed78-4370-a547-71503c81a69a",
   "metadata": {},
   "outputs": [],
   "source": [
    "type(x2)"
   ]
  },
  {
   "cell_type": "code",
   "execution_count": null,
   "id": "eb0dae9d-a0df-45e3-b53a-75692cc97326",
   "metadata": {},
   "outputs": [],
   "source": [
    "type(y)"
   ]
  },
  {
   "cell_type": "code",
   "execution_count": null,
   "id": "41f6f6cf-a2db-49b6-aeef-dfe0c5608ffd",
   "metadata": {},
   "outputs": [],
   "source": [
    "ho_ten = input(\"Nhập tên bạn:\")\n",
    "# print(\"Tên:\", ho_ten, type(ho_ten))"
   ]
  },
  {
   "cell_type": "code",
   "execution_count": null,
   "id": "4691fd46-784e-4512-9ed0-5848e0b52fec",
   "metadata": {},
   "outputs": [],
   "source": [
    "print(\"Tên:\", ho_ten)"
   ]
  },
  {
   "cell_type": "code",
   "execution_count": null,
   "id": "50cf65b1-8a3a-440c-996c-4569718099b1",
   "metadata": {
    "scrolled": true
   },
   "outputs": [],
   "source": [
    "print(\"Kết quả:\", x2, y, x2)"
   ]
  },
  {
   "cell_type": "code",
   "execution_count": null,
   "id": "2309f91b-e7ee-4f05-9529-5bddf79e913b",
   "metadata": {},
   "outputs": [],
   "source": [
    "x"
   ]
  },
  {
   "cell_type": "code",
   "execution_count": null,
   "id": "e5274cfd-87ba-43d3-829c-c21d8be1eae8",
   "metadata": {},
   "outputs": [],
   "source": [
    "y"
   ]
  },
  {
   "cell_type": "code",
   "execution_count": null,
   "id": "bc81ec81-67b7-4d76-bd7a-b151a8f4d353",
   "metadata": {},
   "outputs": [],
   "source": []
  },
  {
   "cell_type": "code",
   "execution_count": null,
   "id": "d49ced3e-5547-4c00-a87b-1f08e6e0b36c",
   "metadata": {},
   "outputs": [],
   "source": []
  },
  {
   "cell_type": "markdown",
   "id": "186bf871-24e8-4324-bf1c-f9823a414ecd",
   "metadata": {},
   "source": [
    "# I.CÁC KIỂU DỮ LIỆU CƠ SỞ CỦA PYTHON"
   ]
  },
  {
   "cell_type": "markdown",
   "id": "ff92b2f9-fcfd-435e-8aa9-188a5f86fba9",
   "metadata": {},
   "source": [
    "## 1. KIỂU SỐ - int() - float()"
   ]
  },
  {
   "cell_type": "code",
   "execution_count": null,
   "id": "0dd5103a-eefc-4b79-a828-793bb113396e",
   "metadata": {},
   "outputs": [],
   "source": [
    "x2 = 10.0; \n",
    "x = 5\n",
    "x1 = 7.8"
   ]
  },
  {
   "cell_type": "code",
   "execution_count": null,
   "id": "d773d71f-464b-4173-8b55-484ce5d2f901",
   "metadata": {},
   "outputs": [],
   "source": [
    "a = 10\n",
    "b = 3"
   ]
  },
  {
   "cell_type": "code",
   "execution_count": null,
   "id": "e29d5b13-8bd9-455c-99d2-dd6c2c785ea2",
   "metadata": {},
   "outputs": [],
   "source": [
    "max(x2, x, x1, a, a, b)"
   ]
  },
  {
   "cell_type": "code",
   "execution_count": null,
   "id": "ccba3db1-b660-4338-9fe9-46b3698752df",
   "metadata": {},
   "outputs": [],
   "source": [
    "int(x1)"
   ]
  },
  {
   "cell_type": "code",
   "execution_count": null,
   "id": "d9d3122b-c75e-482c-9195-a80b487ba117",
   "metadata": {},
   "outputs": [],
   "source": [
    "a"
   ]
  },
  {
   "cell_type": "code",
   "execution_count": null,
   "id": "8fe6d898-2b72-4c4e-84e7-700036fec674",
   "metadata": {},
   "outputs": [],
   "source": [
    "a ** b"
   ]
  },
  {
   "cell_type": "code",
   "execution_count": null,
   "id": "3876cf17-375b-4d8e-80e4-351f9baf91a5",
   "metadata": {},
   "outputs": [],
   "source": [
    "tien = 15_000_000"
   ]
  },
  {
   "cell_type": "code",
   "execution_count": null,
   "id": "e97028e9-5fb9-4712-9257-2678d28640bb",
   "metadata": {},
   "outputs": [],
   "source": [
    "tien"
   ]
  },
  {
   "cell_type": "code",
   "execution_count": null,
   "id": "d454f0a3-90a2-45f9-ac46-ada20c7136a6",
   "metadata": {},
   "outputs": [],
   "source": [
    "a // b"
   ]
  },
  {
   "cell_type": "code",
   "execution_count": null,
   "id": "8c83682f-72c8-4884-8d4b-7099aad9d798",
   "metadata": {},
   "outputs": [],
   "source": [
    "a % b"
   ]
  },
  {
   "cell_type": "code",
   "execution_count": null,
   "id": "18ffe1e9-746b-420e-90de-5dafa7db99e8",
   "metadata": {},
   "outputs": [],
   "source": [
    "import math as m"
   ]
  },
  {
   "cell_type": "code",
   "execution_count": null,
   "id": "19b22d37-0095-44ce-b5f0-efde3fe36072",
   "metadata": {},
   "outputs": [],
   "source": [
    "range(9)"
   ]
  },
  {
   "cell_type": "code",
   "execution_count": null,
   "id": "d2a4110d-3404-4484-8c93-863b2b40ff5b",
   "metadata": {},
   "outputs": [],
   "source": [
    "list()"
   ]
  },
  {
   "cell_type": "code",
   "execution_count": null,
   "id": "c00952c0-a63d-4ccc-add6-328ee80ea329",
   "metadata": {},
   "outputs": [],
   "source": [
    "list()"
   ]
  },
  {
   "cell_type": "code",
   "execution_count": null,
   "id": "ebf0e700-23e7-445f-92e0-45146f4d99cf",
   "metadata": {},
   "outputs": [],
   "source": [
    "range(2, 9)"
   ]
  },
  {
   "cell_type": "code",
   "execution_count": null,
   "id": "8e67b7d3-29bf-44e9-80a6-4b2332213702",
   "metadata": {},
   "outputs": [],
   "source": [
    "list(range(2, 9))"
   ]
  },
  {
   "cell_type": "code",
   "execution_count": null,
   "id": "9b8d9505-746a-49b5-85f0-eda90db40e1e",
   "metadata": {},
   "outputs": [],
   "source": []
  },
  {
   "cell_type": "code",
   "execution_count": null,
   "id": "5d926f12-f5bf-4b66-915d-5c18e7004444",
   "metadata": {},
   "outputs": [],
   "source": [
    "range(2, 9, 2)"
   ]
  },
  {
   "cell_type": "code",
   "execution_count": null,
   "id": "7db517f0-4be9-412d-b4c7-9ed44b777aea",
   "metadata": {},
   "outputs": [],
   "source": [
    "list(range(2, 9, 2))"
   ]
  },
  {
   "cell_type": "code",
   "execution_count": null,
   "id": "7557e379-6cbb-4b3a-ae4e-7a98863a0fde",
   "metadata": {},
   "outputs": [],
   "source": []
  },
  {
   "cell_type": "code",
   "execution_count": null,
   "id": "228dee00-cc16-4af4-b00c-7b65c0906bcc",
   "metadata": {},
   "outputs": [],
   "source": [
    "import random as r"
   ]
  },
  {
   "cell_type": "code",
   "execution_count": null,
   "id": "ba2fb9eb-50b8-437d-b92b-8ee0344d2820",
   "metadata": {},
   "outputs": [],
   "source": [
    "r.random()"
   ]
  },
  {
   "cell_type": "code",
   "execution_count": null,
   "id": "219aba1b-1782-4167-9a33-b587cbdc3b92",
   "metadata": {},
   "outputs": [],
   "source": [
    "r.randrange(2, 9, 3) #2, 5, 8"
   ]
  },
  {
   "cell_type": "markdown",
   "id": "14ed4c41-414a-46d2-b2b6-31edf18183aa",
   "metadata": {},
   "source": [
    "## 2.Kiểu chuỗi - Str()"
   ]
  },
  {
   "cell_type": "code",
   "execution_count": null,
   "id": "c9737cef-3f06-4c40-b972-c373fbf6be4d",
   "metadata": {},
   "outputs": [],
   "source": [
    "s1 = \"Học Python thật dễ\""
   ]
  },
  {
   "cell_type": "code",
   "execution_count": null,
   "id": "c6ac866b-27bc-41ea-a33c-290073bbdc9d",
   "metadata": {},
   "outputs": [],
   "source": [
    "s2 = 'Học Python thật dễ'\n",
    "#+    0123456789       17\n",
    "# - -18          7654321     "
   ]
  },
  {
   "cell_type": "code",
   "execution_count": null,
   "id": "dad6b378-ed82-4df6-9331-685abb586e50",
   "metadata": {},
   "outputs": [],
   "source": [
    "s2[-1]"
   ]
  },
  {
   "cell_type": "code",
   "execution_count": null,
   "id": "34f45007-51b9-4f21-af08-9c0cc61d967f",
   "metadata": {},
   "outputs": [],
   "source": [
    "s2[-18]"
   ]
  },
  {
   "cell_type": "code",
   "execution_count": null,
   "id": "0a72bd41-fa7f-411f-b692-89b93a9b0223",
   "metadata": {},
   "outputs": [],
   "source": [
    "s2[1:9:2]"
   ]
  },
  {
   "cell_type": "code",
   "execution_count": null,
   "id": "ccd8e4cd-e0af-4e04-814b-afc382c4debb",
   "metadata": {},
   "outputs": [],
   "source": [
    "s2 = 'Học Python thật dễ'\n",
    "\n",
    "print(s2)"
   ]
  },
  {
   "cell_type": "code",
   "execution_count": null,
   "id": "d545622e-6373-4400-be65-1ed7ec9f5771",
   "metadata": {},
   "outputs": [],
   "source": [
    "print()"
   ]
  },
  {
   "cell_type": "code",
   "execution_count": null,
   "id": "4cbe93a4-74d6-4970-a1d6-39b02228777e",
   "metadata": {},
   "outputs": [],
   "source": [
    "\"Học\" not in s2"
   ]
  },
  {
   "cell_type": "code",
   "execution_count": null,
   "id": "d5d9b591-1e57-4e44-986e-cb937b1d4846",
   "metadata": {},
   "outputs": [],
   "source": [
    "len(s2)"
   ]
  },
  {
   "cell_type": "code",
   "execution_count": null,
   "id": "124e1bfd-b335-49ba-b677-ac73fb163487",
   "metadata": {},
   "outputs": [],
   "source": [
    "a = 123456"
   ]
  },
  {
   "cell_type": "code",
   "execution_count": null,
   "id": "892426db-3584-4510-89fe-1fcf415e1c21",
   "metadata": {},
   "outputs": [],
   "source": [
    "b = str(a)"
   ]
  },
  {
   "cell_type": "code",
   "execution_count": null,
   "id": "1ca5024e-0d88-42ff-b6a7-dd8cc89e1c10",
   "metadata": {},
   "outputs": [],
   "source": [
    "b"
   ]
  },
  {
   "cell_type": "code",
   "execution_count": null,
   "id": "a9e7f465-3192-4f26-a0bb-91af0032a68d",
   "metadata": {},
   "outputs": [],
   "source": [
    "a"
   ]
  },
  {
   "cell_type": "code",
   "execution_count": null,
   "id": "96d63175-cfb6-4964-9b0e-f394d9bef64c",
   "metadata": {},
   "outputs": [],
   "source": [
    "s2.split()"
   ]
  },
  {
   "cell_type": "code",
   "execution_count": null,
   "id": "d7a5bbd9-4e14-475c-b175-d6b824f04b32",
   "metadata": {},
   "outputs": [],
   "source": [
    "e = \"info@uit.edu.vn\""
   ]
  },
  {
   "cell_type": "code",
   "execution_count": null,
   "id": "8f2f4c80-9562-4922-ad90-0e1d63b0b15f",
   "metadata": {},
   "outputs": [],
   "source": [
    "e.split('.')"
   ]
  },
  {
   "cell_type": "code",
   "execution_count": null,
   "id": "408b2489-ddd4-4bb7-b431-33d5165f095a",
   "metadata": {},
   "outputs": [],
   "source": []
  },
  {
   "cell_type": "markdown",
   "id": "25cf33cc-abaf-4227-9180-a4c020e851ce",
   "metadata": {},
   "source": [
    "## 3. List - Kiểu danh sách - list()"
   ]
  },
  {
   "cell_type": "code",
   "execution_count": null,
   "id": "7aceb70c-728b-445f-8bfc-92f61da5a49d",
   "metadata": {},
   "outputs": [],
   "source": [
    "ds = [1, 2, 'ba', 4, '5']"
   ]
  },
  {
   "cell_type": "code",
   "execution_count": null,
   "id": "702bb36f-8db4-40a6-a6e4-f956c0f80f3c",
   "metadata": {},
   "outputs": [],
   "source": [
    "ds"
   ]
  },
  {
   "cell_type": "code",
   "execution_count": null,
   "id": "c022f0f8-cd64-4767-a84a-120e6f98c664",
   "metadata": {},
   "outputs": [],
   "source": [
    "type(ds)"
   ]
  },
  {
   "cell_type": "code",
   "execution_count": null,
   "id": "24e7edb5-0429-4ff2-915f-53dc1bc57e86",
   "metadata": {},
   "outputs": [],
   "source": [
    "ds[2]"
   ]
  },
  {
   "cell_type": "code",
   "execution_count": null,
   "id": "2ae392f1-f631-46a9-8ab3-d453f1c24cb7",
   "metadata": {},
   "outputs": [],
   "source": [
    "ds[-3]"
   ]
  },
  {
   "cell_type": "code",
   "execution_count": null,
   "id": "5b66369b-36b1-46b0-bbec-6c69a445a43c",
   "metadata": {},
   "outputs": [],
   "source": [
    "ds = [1, 2, 'ba', 4, '5', 6]"
   ]
  },
  {
   "cell_type": "code",
   "execution_count": null,
   "id": "89ef2d78-e467-4627-a2ee-4adc278327b0",
   "metadata": {},
   "outputs": [],
   "source": [
    "del ds[2]"
   ]
  },
  {
   "cell_type": "code",
   "execution_count": null,
   "id": "12912097-6b71-452e-b2f2-ad5c642859a9",
   "metadata": {},
   "outputs": [],
   "source": [
    "ds[-4] = 3"
   ]
  },
  {
   "cell_type": "code",
   "execution_count": null,
   "id": "235a5b0e-dec8-4694-a770-0d4a2089df05",
   "metadata": {},
   "outputs": [],
   "source": [
    "ds"
   ]
  },
  {
   "cell_type": "code",
   "execution_count": null,
   "id": "4b554195-4584-41b7-8ffc-37b967592543",
   "metadata": {},
   "outputs": [],
   "source": [
    "ds.append(7)"
   ]
  },
  {
   "cell_type": "code",
   "execution_count": null,
   "id": "15071cf3-f9d9-4c47-80bd-bcfe1104ec52",
   "metadata": {},
   "outputs": [],
   "source": [
    "ds"
   ]
  },
  {
   "cell_type": "code",
   "execution_count": null,
   "id": "c6b3d526-3524-4a43-8da7-033954649f38",
   "metadata": {},
   "outputs": [],
   "source": [
    "ds.extend([8, 9, 10])"
   ]
  },
  {
   "cell_type": "code",
   "execution_count": null,
   "id": "45816364-e241-4e5d-bc3d-860ad46a32fb",
   "metadata": {},
   "outputs": [],
   "source": [
    "ds"
   ]
  },
  {
   "cell_type": "code",
   "execution_count": null,
   "id": "33104034-4c8d-4214-a068-d14d487d5715",
   "metadata": {},
   "outputs": [],
   "source": [
    "ds.append([11, 12])"
   ]
  },
  {
   "cell_type": "code",
   "execution_count": null,
   "id": "99360560-0682-4a84-93d8-c8bbe5e0b010",
   "metadata": {},
   "outputs": [],
   "source": [
    "ds"
   ]
  },
  {
   "cell_type": "code",
   "execution_count": null,
   "id": "3f42e30f-eba4-4a4a-82ee-0b1c416937de",
   "metadata": {},
   "outputs": [],
   "source": [
    "list(\"abc123\")"
   ]
  },
  {
   "cell_type": "code",
   "execution_count": null,
   "id": "ad2ff5dd-823c-4e97-993a-f0d8fd766b06",
   "metadata": {},
   "outputs": [],
   "source": [
    "ds"
   ]
  },
  {
   "cell_type": "code",
   "execution_count": null,
   "id": "288462d0-e9aa-48b3-97d4-898477a68c90",
   "metadata": {},
   "outputs": [],
   "source": [
    "str(ds)"
   ]
  },
  {
   "cell_type": "code",
   "execution_count": null,
   "id": "a6a506c6-6067-49c8-bed5-114b24de50d8",
   "metadata": {},
   "outputs": [],
   "source": [
    "ds = [1, 2, 3, 9, 5, 3, 7, 1, 3]"
   ]
  },
  {
   "cell_type": "code",
   "execution_count": null,
   "id": "37b28c7c-60e9-446a-b685-617766f61446",
   "metadata": {},
   "outputs": [],
   "source": [
    "ds.count(5)"
   ]
  },
  {
   "cell_type": "code",
   "execution_count": null,
   "id": "3c5947fb-6cd7-4494-982a-e127a238848e",
   "metadata": {},
   "outputs": [],
   "source": [
    "ds.index(3)"
   ]
  },
  {
   "cell_type": "code",
   "execution_count": null,
   "id": "03b7e4f7-db65-41c1-8881-ad9022eec7ce",
   "metadata": {},
   "outputs": [],
   "source": [
    "a = [1, 2, 3, 4, 5]"
   ]
  },
  {
   "cell_type": "code",
   "execution_count": null,
   "id": "db52363a-097b-4bf2-ae0d-ae911e4eefc8",
   "metadata": {},
   "outputs": [],
   "source": [
    "b = a "
   ]
  },
  {
   "cell_type": "code",
   "execution_count": null,
   "id": "48aac217-3b63-4e1b-a2cf-e6c59c4af4de",
   "metadata": {},
   "outputs": [],
   "source": [
    "b"
   ]
  },
  {
   "cell_type": "code",
   "execution_count": null,
   "id": "129e539f-61af-429b-af90-ab35b6e3cb0a",
   "metadata": {},
   "outputs": [],
   "source": [
    "a.remove(5)"
   ]
  },
  {
   "cell_type": "code",
   "execution_count": null,
   "id": "9323a71d-cb10-4c5d-a5a0-5a83efe0e765",
   "metadata": {},
   "outputs": [],
   "source": [
    "a"
   ]
  },
  {
   "cell_type": "code",
   "execution_count": null,
   "id": "cc4ee343-4a79-47e6-99fc-130ab7b11fa3",
   "metadata": {},
   "outputs": [],
   "source": [
    "b"
   ]
  },
  {
   "cell_type": "code",
   "execution_count": null,
   "id": "b2007029-3216-4f61-9441-c64328298f45",
   "metadata": {},
   "outputs": [],
   "source": []
  },
  {
   "cell_type": "code",
   "execution_count": null,
   "id": "4247ae5a-6c19-4303-8fdd-9742c09a99bb",
   "metadata": {},
   "outputs": [],
   "source": [
    "ds = [1, 9, 4, 8, 3, 6]\n",
    "ds.sort(reverse=True)\n",
    "ds"
   ]
  },
  {
   "cell_type": "code",
   "execution_count": null,
   "id": "8d2a1259-de81-4009-a826-c1abeabcd796",
   "metadata": {},
   "outputs": [],
   "source": [
    "ds = [1, -9, 4, 8, -3, 6]\n",
    "ds.sort(key=abs)\n",
    "ds"
   ]
  },
  {
   "cell_type": "code",
   "execution_count": null,
   "id": "1f82b704-db97-470b-bed2-8832331c77fc",
   "metadata": {},
   "outputs": [],
   "source": []
  },
  {
   "cell_type": "markdown",
   "id": "75c679a6-7dc6-42fe-b20d-536e11802035",
   "metadata": {},
   "source": [
    "## 4.Kiểu tuple- tupble()"
   ]
  },
  {
   "cell_type": "code",
   "execution_count": null,
   "id": "522161a8-35c6-4263-b7f7-93c3bb09bf4f",
   "metadata": {},
   "outputs": [],
   "source": [
    "tp = (1, 'ba', 4, '5', 6, 2, 4)"
   ]
  },
  {
   "cell_type": "code",
   "execution_count": null,
   "id": "d0b54e31-9823-4cb9-bc09-dddffb1ddf1a",
   "metadata": {},
   "outputs": [],
   "source": [
    "tp2 = 1, 'ba', 4, '5', 6, 2, 4"
   ]
  },
  {
   "cell_type": "code",
   "execution_count": null,
   "id": "6139cab4-2524-4ace-bef3-ba0517ba4901",
   "metadata": {},
   "outputs": [],
   "source": [
    "type(tp)"
   ]
  },
  {
   "cell_type": "code",
   "execution_count": null,
   "id": "d55213d6-ff16-4b77-8a73-bde4be9cb86c",
   "metadata": {},
   "outputs": [],
   "source": [
    "type(tp2)"
   ]
  },
  {
   "cell_type": "code",
   "execution_count": null,
   "id": "87b15304-14d2-4db7-8b13-6b6ba9a1ffe9",
   "metadata": {},
   "outputs": [],
   "source": [
    "tp3 = 1,\n",
    "type(tp3)"
   ]
  },
  {
   "cell_type": "code",
   "execution_count": null,
   "id": "b4a47366-5b15-4dd0-98bb-2ebba49d55e2",
   "metadata": {},
   "outputs": [],
   "source": [
    "tp"
   ]
  },
  {
   "cell_type": "code",
   "execution_count": null,
   "id": "a0b19607-f6dd-4a5f-8636-bf8f8a6eaee3",
   "metadata": {},
   "outputs": [],
   "source": [
    "tp[2] = 3"
   ]
  },
  {
   "cell_type": "code",
   "execution_count": null,
   "id": "db9b8120-bfed-425c-bfd7-895c54d9997f",
   "metadata": {},
   "outputs": [],
   "source": []
  },
  {
   "cell_type": "code",
   "execution_count": null,
   "id": "5ef7189f-92e8-461c-82be-2a6e2fe020f4",
   "metadata": {},
   "outputs": [],
   "source": [
    "tup1 = (1, 3, 5)\n",
    "tup2 = (2, 4, 6)\n",
    "\n",
    "tup1 * 3"
   ]
  },
  {
   "cell_type": "code",
   "execution_count": null,
   "id": "c98237d7-70c0-4191-b828-1569c4e111a5",
   "metadata": {},
   "outputs": [],
   "source": [
    "tup = (1, 9, 6, 7, 5, 3)\n",
    "ds = sorted(tup)"
   ]
  },
  {
   "cell_type": "code",
   "execution_count": null,
   "id": "d326228a-ffcc-417d-b2c3-f8f4c47e9fe8",
   "metadata": {},
   "outputs": [],
   "source": [
    "ds"
   ]
  },
  {
   "cell_type": "code",
   "execution_count": null,
   "id": "36890327-18e2-48fd-88b0-4a2a5f218347",
   "metadata": {},
   "outputs": [],
   "source": [
    "tup = (1, 9, 6, 7, 5, 6, 3, 6)\n",
    "num = tup.count(6)"
   ]
  },
  {
   "cell_type": "code",
   "execution_count": null,
   "id": "d0aa1c6a-f33c-446f-a5e7-ce81ea1bc90b",
   "metadata": {},
   "outputs": [],
   "source": [
    "ds"
   ]
  },
  {
   "cell_type": "code",
   "execution_count": null,
   "id": "ae203669-c2c7-4c0a-829d-ef95776c8bce",
   "metadata": {},
   "outputs": [],
   "source": [
    "tup"
   ]
  },
  {
   "cell_type": "markdown",
   "id": "c9a4a6c6-1dac-4bc2-aa03-b091879b7cc7",
   "metadata": {},
   "source": [
    "## 5. Kiểu từ điển - dict()"
   ]
  },
  {
   "cell_type": "code",
   "execution_count": null,
   "id": "54d03df2-5916-4386-a3dc-e5f25e984504",
   "metadata": {},
   "outputs": [],
   "source": [
    "str => \"...\", '...'\n",
    "list => []\n",
    "tuple => ()\n",
    "\n",
    "điểm chung: indedx - +"
   ]
  },
  {
   "cell_type": "code",
   "execution_count": null,
   "id": "c7301529-d068-40d5-a9b8-d8711ab9cff0",
   "metadata": {},
   "outputs": [],
   "source": [
    "dict => {}"
   ]
  },
  {
   "cell_type": "code",
   "execution_count": null,
   "id": "9c3561ec-f10c-4bbe-83f1-a928167f6a27",
   "metadata": {},
   "outputs": [],
   "source": [
    "d ={\n",
    "    'một': 78,\n",
    "    1: [1, 5],\n",
    "    8: \"tám\",\n",
    "    (34, 56): 'tup test',\n",
    "    8: \"tám sau\",\n",
    "}    "
   ]
  },
  {
   "cell_type": "code",
   "execution_count": null,
   "id": "38286805-f732-43dd-8549-e81eaeb70da5",
   "metadata": {},
   "outputs": [],
   "source": [
    "d"
   ]
  },
  {
   "cell_type": "code",
   "execution_count": null,
   "id": "6241a17c-c922-4e9a-bc3c-915b2137a960",
   "metadata": {},
   "outputs": [],
   "source": [
    "tt= {\n",
    "    'TG' : 'Tiền Giang',\n",
    "    'LA':  'Long An',\n",
    "    'ĐN': 'Đồng Nai',\n",
    "    'BT': 'Bình Thuận',\n",
    "    'VL': 'Vĩnh Long',\n",
    "}\n",
    "    "
   ]
  },
  {
   "cell_type": "code",
   "execution_count": null,
   "id": "304bf586-e805-4860-96e0-64d2a17d6ab7",
   "metadata": {},
   "outputs": [],
   "source": [
    "del tt['BT']"
   ]
  },
  {
   "cell_type": "code",
   "execution_count": null,
   "id": "693d9d72-4f48-4e04-9f9e-f03a37fca0da",
   "metadata": {},
   "outputs": [],
   "source": [
    "tt"
   ]
  },
  {
   "cell_type": "code",
   "execution_count": null,
   "id": "48108974-b0d8-4fc3-b128-254984a38f97",
   "metadata": {},
   "outputs": [],
   "source": [
    "tt['ĐN']"
   ]
  },
  {
   "cell_type": "code",
   "execution_count": null,
   "id": "a5ceb79c-ab7f-4ef0-95af-96f401804beb",
   "metadata": {},
   "outputs": [],
   "source": [
    "dicUni = {\n",
    "    520189: \"MIT\",\n",
    "    \"IT\": \"Information Technology\",\n",
    "    \"SE\": \" Computer Engineer\",\n",
    "}"
   ]
  },
  {
   "cell_type": "code",
   "execution_count": null,
   "id": "169e9732-abea-41b8-8374-3db70f568ec0",
   "metadata": {},
   "outputs": [],
   "source": [
    "dicUni"
   ]
  },
  {
   "cell_type": "code",
   "execution_count": null,
   "id": "44d1240b-a413-4623-9799-61b5576b730e",
   "metadata": {},
   "outputs": [],
   "source": [
    "tt.items()"
   ]
  },
  {
   "cell_type": "code",
   "execution_count": null,
   "id": "5519ae4d-1505-4f0b-928f-64ccf5b2e5aa",
   "metadata": {},
   "outputs": [],
   "source": [
    "tt ['La']"
   ]
  },
  {
   "cell_type": "code",
   "execution_count": null,
   "id": "84b97e5d-a767-4118-9cad-a0df80514280",
   "metadata": {},
   "outputs": [],
   "source": [
    "tt.get('LA')"
   ]
  },
  {
   "cell_type": "code",
   "execution_count": null,
   "id": "9b2e765d-4fc9-4182-8b85-8feca8e46ec2",
   "metadata": {},
   "outputs": [],
   "source": [
    "tt.get('La', 'Không có giá trị cho keyword này')"
   ]
  },
  {
   "cell_type": "code",
   "execution_count": null,
   "id": "bf2a68e1-2546-47a4-9353-5a1d2eeacb3b",
   "metadata": {},
   "outputs": [],
   "source": []
  },
  {
   "cell_type": "markdown",
   "id": "ae533af5-b496-4c33-bd12-f89d6fe7b4c9",
   "metadata": {},
   "source": [
    "## 6. Kiểu tập hợp - set()"
   ]
  },
  {
   "cell_type": "code",
   "execution_count": null,
   "id": "5eb150b4-ac40-44c4-828b-01897b864fb9",
   "metadata": {},
   "outputs": [],
   "source": [
    "t= {1, 2, 'ba', 4, 'ba'}"
   ]
  },
  {
   "cell_type": "code",
   "execution_count": null,
   "id": "16d6a602-6d96-4a33-b6f9-140963d82ee5",
   "metadata": {},
   "outputs": [],
   "source": []
  },
  {
   "cell_type": "code",
   "execution_count": null,
   "id": "380a7456-079a-4572-9264-98553ad5a5f4",
   "metadata": {},
   "outputs": [],
   "source": [
    "t.remove(1)"
   ]
  },
  {
   "cell_type": "code",
   "execution_count": null,
   "id": "63a56708-4e06-408a-8f2a-0621af2dd96d",
   "metadata": {},
   "outputs": [],
   "source": [
    "t"
   ]
  },
  {
   "cell_type": "code",
   "execution_count": null,
   "id": "9dbc6d24-d059-4dab-979a-6526a9bc7116",
   "metadata": {},
   "outputs": [],
   "source": []
  },
  {
   "cell_type": "markdown",
   "id": "74310fee-e454-49e7-b2f9-411d44501f5d",
   "metadata": {},
   "source": [
    "## 7. Kiểu bool()"
   ]
  },
  {
   "cell_type": "code",
   "execution_count": null,
   "id": "c078be7f-fc49-4155-a469-1635213176ec",
   "metadata": {},
   "outputs": [],
   "source": [
    "True     các số khác 0\n",
    "\n",
    "\n",
    "False => 0\n",
    "         \"\"\n",
    "         []\n",
    "         ()\n",
    "         {} \n",
    "          set()"
   ]
  },
  {
   "cell_type": "code",
   "execution_count": 7,
   "id": "6b9fc33b-6f5a-4204-98f3-4e549e95d308",
   "metadata": {},
   "outputs": [
    {
     "data": {
      "text/plain": [
       "False"
      ]
     },
     "execution_count": 7,
     "metadata": {},
     "output_type": "execute_result"
    }
   ],
   "source": [
    "bool(\"\")"
   ]
  },
  {
   "cell_type": "code",
   "execution_count": null,
   "id": "ea90d340-0be8-4300-948c-3333202acf75",
   "metadata": {},
   "outputs": [],
   "source": []
  },
  {
   "cell_type": "code",
   "execution_count": 3,
   "id": "922869a6-eb7c-4668-a9f4-dc6334acf039",
   "metadata": {},
   "outputs": [],
   "source": [
    "tuoi = None"
   ]
  },
  {
   "cell_type": "code",
   "execution_count": null,
   "id": "1aa8b42c-e578-4c54-8126-bdb30e0fa7c8",
   "metadata": {},
   "outputs": [],
   "source": []
  },
  {
   "cell_type": "code",
   "execution_count": 11,
   "id": "5c0785f0-d499-47ae-80ef-ece3fc33bf49",
   "metadata": {},
   "outputs": [
    {
     "data": {
      "text/plain": [
       "False"
      ]
     },
     "execution_count": 11,
     "metadata": {},
     "output_type": "execute_result"
    }
   ],
   "source": [
    "bool(tuoi)"
   ]
  },
  {
   "cell_type": "code",
   "execution_count": 5,
   "id": "10aca868-0f48-4c8d-a85c-e6524693c6a5",
   "metadata": {},
   "outputs": [
    {
     "data": {
      "text/plain": [
       "NoneType"
      ]
     },
     "execution_count": 5,
     "metadata": {},
     "output_type": "execute_result"
    }
   ],
   "source": [
    "type(tuoi)"
   ]
  },
  {
   "cell_type": "code",
   "execution_count": null,
   "id": "1a41f35a-dd7c-40b4-aa53-3672ad577091",
   "metadata": {},
   "outputs": [],
   "source": []
  },
  {
   "cell_type": "markdown",
   "id": "0aa1c730-e9e8-484b-9c95-af83a6514709",
   "metadata": {},
   "source": [
    "## Minh hoạ toán tử"
   ]
  },
  {
   "cell_type": "code",
   "execution_count": 11,
   "id": "8a5f792b-dd71-40d3-b0d3-0cf580fe9252",
   "metadata": {},
   "outputs": [],
   "source": [
    "a = 12\n",
    "b = 2"
   ]
  },
  {
   "cell_type": "code",
   "execution_count": 17,
   "id": "377b24ca-3f1a-42cb-ab54-cafb2b44c5ad",
   "metadata": {},
   "outputs": [],
   "source": [
    "b += 6"
   ]
  },
  {
   "cell_type": "code",
   "execution_count": 19,
   "id": "c6260820-6c49-48d7-a0bf-d4abe84a0292",
   "metadata": {},
   "outputs": [
    {
     "data": {
      "text/plain": [
       "8"
      ]
     },
     "execution_count": 19,
     "metadata": {},
     "output_type": "execute_result"
    }
   ],
   "source": [
    "b"
   ]
  },
  {
   "cell_type": "code",
   "execution_count": 21,
   "id": "a27c64ca-9467-49f1-a7f9-ad35aec41ce7",
   "metadata": {},
   "outputs": [
    {
     "ename": "SyntaxError",
     "evalue": "invalid syntax (2177977899.py, line 1)",
     "output_type": "error",
     "traceback": [
      "\u001b[1;36m  Cell \u001b[1;32mIn[21], line 1\u001b[1;36m\u001b[0m\n\u001b[1;33m    b++\u001b[0m\n\u001b[1;37m       ^\u001b[0m\n\u001b[1;31mSyntaxError\u001b[0m\u001b[1;31m:\u001b[0m invalid syntax\n"
     ]
    }
   ],
   "source": [
    " b++"
   ]
  },
  {
   "cell_type": "code",
   "execution_count": 23,
   "id": "6f13bf60-281f-49e9-a657-2a10bb89dd8a",
   "metadata": {},
   "outputs": [
    {
     "data": {
      "text/plain": [
       "8"
      ]
     },
     "execution_count": 23,
     "metadata": {},
     "output_type": "execute_result"
    }
   ],
   "source": [
    "++b "
   ]
  },
  {
   "cell_type": "code",
   "execution_count": 25,
   "id": "24b20520-46aa-440e-a2cc-f1d77dab10bb",
   "metadata": {},
   "outputs": [],
   "source": [
    "b +=1"
   ]
  },
  {
   "cell_type": "code",
   "execution_count": 27,
   "id": "052423a1-da92-4fa4-a2f6-42a2d638276d",
   "metadata": {},
   "outputs": [
    {
     "data": {
      "text/plain": [
       "9"
      ]
     },
     "execution_count": 27,
     "metadata": {},
     "output_type": "execute_result"
    }
   ],
   "source": [
    "b"
   ]
  },
  {
   "cell_type": "code",
   "execution_count": null,
   "id": "2d0278ec-eb44-4bf6-82e2-1cbce476850e",
   "metadata": {},
   "outputs": [],
   "source": []
  }
 ],
 "metadata": {
  "kernelspec": {
   "display_name": "Python 3 (ipykernel)",
   "language": "python",
   "name": "python3"
  },
  "language_info": {
   "codemirror_mode": {
    "name": "ipython",
    "version": 3
   },
   "file_extension": ".py",
   "mimetype": "text/x-python",
   "name": "python",
   "nbconvert_exporter": "python",
   "pygments_lexer": "ipython3",
   "version": "3.11.7"
  }
 },
 "nbformat": 4,
 "nbformat_minor": 5
}
