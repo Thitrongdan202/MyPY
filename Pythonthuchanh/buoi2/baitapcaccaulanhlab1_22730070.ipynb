{
 "cells": [
  {
   "cell_type": "markdown",
   "id": "93121155-a4d8-40ce-baf0-12d748abd399",
   "metadata": {},
   "source": [
    "## Bài 1\n"
   ]
  },
  {
   "cell_type": "code",
   "execution_count": null,
   "id": "53f4dcb4-7efc-44c5-b5fb-46967f0de1c8",
   "metadata": {},
   "outputs": [],
   "source": [
    "a = int(input(\"Nhập vào số nguyên thứ nhất (a): \"))"
   ]
  },
  {
   "cell_type": "code",
   "execution_count": null,
   "id": "7ed0412c-8f8b-4826-94d8-45fe2151dca1",
   "metadata": {},
   "outputs": [],
   "source": [
    "b = int(input(\"Nhập vào số nguyên thứ hai (b): \"))"
   ]
  },
  {
   "cell_type": "code",
   "execution_count": null,
   "id": "e72302ca-013e-478a-8cf0-0428a068dd27",
   "metadata": {},
   "outputs": [],
   "source": [
    "c = int(input(\"Nhập vào số nguyên thứ ba (c): \"))"
   ]
  },
  {
   "cell_type": "code",
   "execution_count": null,
   "id": "887f6075-2336-485f-85c7-619fe67894d6",
   "metadata": {},
   "outputs": [],
   "source": [
    "d = int(input(\"Nhập vào số nguyên thứ tư (d): \"))"
   ]
  },
  {
   "cell_type": "code",
   "execution_count": null,
   "id": "863d5b4e-7888-4518-b902-305939030201",
   "metadata": {},
   "outputs": [],
   "source": [
    "average = (a + b + c + d) / 4\n",
    "print(\"Trung bình cộng của 4 số đã nhập là:\", average)"
   ]
  },
  {
   "cell_type": "markdown",
   "id": "db37a590-df86-433f-a142-a037d88a6ee7",
   "metadata": {},
   "source": [
    "## Bài 2\n"
   ]
  },
  {
   "cell_type": "code",
   "execution_count": null,
   "id": "37311ec0-afb1-4fa7-8cb0-65aa9418dea2",
   "metadata": {},
   "outputs": [],
   "source": [
    "a = int(input(\"Nhập vào số nguyên thứ nhất (a): \"))"
   ]
  },
  {
   "cell_type": "code",
   "execution_count": null,
   "id": "c5828c38-8e69-4994-a592-55c83ff8db47",
   "metadata": {},
   "outputs": [],
   "source": [
    "b = int(input(\"Nhập vào số nguyên thứ hai (b): \"))"
   ]
  },
  {
   "cell_type": "code",
   "execution_count": null,
   "id": "43f8c08a-0eb8-4205-9b1c-a4a548331fad",
   "metadata": {},
   "outputs": [],
   "source": [
    "tong = a + b\n",
    "hieu = a - b\n",
    "tich = a * b\n",
    "thuong_2 = round(a / b, 2)\n",
    "thuong_3 = round(a / b, 3)"
   ]
  },
  {
   "cell_type": "code",
   "execution_count": null,
   "id": "596df4ca-2d6b-49ba-b247-f838a796ba5a",
   "metadata": {},
   "outputs": [],
   "source": [
    "print(\"Tổng:\", tong)\n",
    "print(\"Hiệu:\", hieu)\n",
    "print(\"Tích:\", tich)\n",
    "print(\"Thương làm tròn 2 chữ số:\", thuong_2)\n",
    "print(\"Thương làm tròn 3 chữ số:\", thuong_3)"
   ]
  },
  {
   "cell_type": "markdown",
   "id": "50d8c171-8b14-4764-b459-fe02527134fb",
   "metadata": {},
   "source": [
    "## Bài 3"
   ]
  },
  {
   "cell_type": "code",
   "execution_count": null,
   "id": "d10f3d82-3e20-40dc-9aeb-bc259d41c520",
   "metadata": {},
   "outputs": [],
   "source": [
    "a = int(input(\"Nhập vào số nguyên dương thứ nhất (a): \"))"
   ]
  },
  {
   "cell_type": "code",
   "execution_count": null,
   "id": "e4f3cf45-f742-4a17-852c-8fccd4591274",
   "metadata": {},
   "outputs": [],
   "source": [
    "b = int(input(\"Nhập vào số nguyên dương thứ hai (b): \"))"
   ]
  },
  {
   "cell_type": "code",
   "execution_count": null,
   "id": "b025b4e4-0db4-4277-b0e3-e224d2e2aa1d",
   "metadata": {},
   "outputs": [],
   "source": [
    "phan_nguyen = a // b"
   ]
  },
  {
   "cell_type": "code",
   "execution_count": null,
   "id": "5a429540-6d5b-4d68-84b6-1c7fd5f2a7b0",
   "metadata": {},
   "outputs": [],
   "source": [
    "phan_du = a % b"
   ]
  },
  {
   "cell_type": "code",
   "execution_count": null,
   "id": "6d54e94a-682a-4f17-bef1-08444a225141",
   "metadata": {},
   "outputs": [],
   "source": [
    "print(\"Phần nguyên của phép chia:\", phan_nguyen)\n",
    "print(\"Phần dư của phép chia:\", phan_du)"
   ]
  },
  {
   "cell_type": "markdown",
   "id": "10486b01-332e-4a91-a519-5bce09c6863d",
   "metadata": {},
   "source": [
    "## Bài 4"
   ]
  },
  {
   "cell_type": "code",
   "execution_count": null,
   "id": "c6a5221c-5b59-409b-a73c-028857695dec",
   "metadata": {},
   "outputs": [],
   "source": [
    "N = int(input(\"Nhập vào số nguyên dương N có 2 chữ số: \"))"
   ]
  },
  {
   "cell_type": "code",
   "execution_count": null,
   "id": "badfc94b-2c60-4239-86c2-6252f750a05a",
   "metadata": {},
   "outputs": [],
   "source": [
    "hang chuc = N // 10"
   ]
  },
  {
   "cell_type": "code",
   "execution_count": null,
   "id": "ab11c3a6-7e40-4a70-9424-179b47839af7",
   "metadata": {},
   "outputs": [],
   "source": [
    "hang don vi = N % 10"
   ]
  },
  {
   "cell_type": "code",
   "execution_count": null,
   "id": "cb1a2b4c-6b4e-45ac-8839-862dcc9f1a7f",
   "metadata": {},
   "outputs": [],
   "source": [
    "tong chu so = hang chuc + hang don vi"
   ]
  },
  {
   "cell_type": "code",
   "execution_count": null,
   "id": "b493da6a-d0c5-4fab-99a1-07a098e2ed5b",
   "metadata": {},
   "outputs": [],
   "source": [
    "print(f\"Tổng các chữ số của {N} là: {hang_chuc} + {hang_don_vi} = {tong_chu_so}\")"
   ]
  },
  {
   "cell_type": "markdown",
   "id": "2d10d89c-f067-427e-9255-8553c4e21864",
   "metadata": {},
   "source": [
    "## Bài 5\n"
   ]
  },
  {
   "cell_type": "code",
   "execution_count": null,
   "id": "8f90f278-f723-49e1-8eb1-56b21b1f6b0e",
   "metadata": {},
   "outputs": [],
   "source": [
    "hh = int(input(\"Nhập giờ (hh): \"))"
   ]
  },
  {
   "cell_type": "code",
   "execution_count": null,
   "id": "7fdb97ee-c257-43f5-903b-e8837f87a304",
   "metadata": {},
   "outputs": [],
   "source": [
    "mm = int(input(\"Nhập phút (mm): \"))"
   ]
  },
  {
   "cell_type": "code",
   "execution_count": null,
   "id": "354a6e06-080b-43c6-8004-0d243990102b",
   "metadata": {},
   "outputs": [],
   "source": [
    "ss = int(input(\"Nhập giây (ss): \"))"
   ]
  },
  {
   "cell_type": "code",
   "execution_count": null,
   "id": "42a38c1c-c55b-46e1-a6c0-574ab1375b9c",
   "metadata": {},
   "outputs": [],
   "source": [
    "tong giay = hh * 3600 + mm * 60 + ss"
   ]
  },
  {
   "cell_type": "code",
   "execution_count": null,
   "id": "fdb92bda-4613-487e-9701-a922129bb854",
   "metadata": {},
   "outputs": [],
   "source": [
    "print(\"Tổng số giây là:\", tong_giay)"
   ]
  },
  {
   "cell_type": "markdown",
   "id": "ee782bc4-fd5b-4ca5-933b-038944a1f0fb",
   "metadata": {},
   "source": [
    "## Bài 6"
   ]
  },
  {
   "cell_type": "code",
   "execution_count": null,
   "id": "3d505955-e618-45ac-a7e2-804dae20fbb2",
   "metadata": {},
   "outputs": [],
   "source": [
    "nam sinh = int(input(\"Nhập vào năm sinh của bạn: \"))"
   ]
  },
  {
   "cell_type": "code",
   "execution_count": null,
   "id": "03c68f39-3b14-4380-b995-7edf66b4536f",
   "metadata": {},
   "outputs": [],
   "source": [
    "nam hientai = 2022"
   ]
  },
  {
   "cell_type": "code",
   "execution_count": null,
   "id": "6122cc47-e8a8-49a2-8108-7dd365a7bfa8",
   "metadata": {},
   "outputs": [],
   "source": [
    "tuoi = nam hien tai - nam sinh"
   ]
  },
  {
   "cell_type": "code",
   "execution_count": null,
   "id": "cbc7ae08-544c-416e-8dee-c9ac004f91f7",
   "metadata": {},
   "outputs": [],
   "source": [
    "print(f\"Bạn sinh năm {nam_sinh}, vậy bạn {tuoi} tuổi.\")"
   ]
  },
  {
   "cell_type": "markdown",
   "id": "c0bd5bda-4745-4ffb-a234-c733c0b7c788",
   "metadata": {},
   "source": [
    "## Bài 7"
   ]
  },
  {
   "cell_type": "code",
   "execution_count": null,
   "id": "f49b4878-9efa-4a82-8dd0-e2c96421f09d",
   "metadata": {},
   "outputs": [],
   "source": [
    "import math"
   ]
  },
  {
   "cell_type": "code",
   "execution_count": null,
   "id": "99e6e904-e244-4285-85e3-80d15f1e610b",
   "metadata": {},
   "outputs": [],
   "source": [
    "ban_kinh = float(input(\"Nhập vào bán kính của hình tròn: \"))"
   ]
  },
  {
   "cell_type": "code",
   "execution_count": null,
   "id": "31a37a56-ac20-4525-b4dc-d2dd8b6bb797",
   "metadata": {},
   "outputs": [],
   "source": [
    "chu_vi = 2 * math.pi * ban_kinh"
   ]
  },
  {
   "cell_type": "code",
   "execution_count": null,
   "id": "f8004352-3585-4b28-a95b-f1ad68442d75",
   "metadata": {},
   "outputs": [],
   "source": [
    "dien_tich = math.pi * (ban_kinh ** 2)"
   ]
  },
  {
   "cell_type": "code",
   "execution_count": null,
   "id": "fede9473-d758-4a74-ae54-7251ed373dbc",
   "metadata": {},
   "outputs": [],
   "source": [
    "print(\"Chu vi của hình tròn là:\", chu_vi)"
   ]
  },
  {
   "cell_type": "code",
   "execution_count": null,
   "id": "986913b9-76a9-413c-a7ed-24138174945f",
   "metadata": {},
   "outputs": [],
   "source": [
    "print(\"Diện tích của hình tròn là:\", dien_tich)"
   ]
  },
  {
   "cell_type": "markdown",
   "id": "7c680eda-7797-4927-963d-cadd3e8214ff",
   "metadata": {},
   "source": [
    "## Bài 8"
   ]
  },
  {
   "cell_type": "code",
   "execution_count": null,
   "id": "e1a73126-23ba-43d0-8c5e-1ba4fdbac3d6",
   "metadata": {},
   "outputs": [],
   "source": [
    "can nang = float(input(\"Nhập cân nặng của bạn (kg): \"))"
   ]
  },
  {
   "cell_type": "code",
   "execution_count": null,
   "id": "3ca68a67-4adc-4410-a154-bf5e16a41f8c",
   "metadata": {},
   "outputs": [],
   "source": [
    "chieu cao = float(input(\"Nhập chiều cao của bạn (m): \"))"
   ]
  },
  {
   "cell_type": "code",
   "execution_count": null,
   "id": "27041d33-d178-4fa7-b787-84f07fb6f882",
   "metadata": {},
   "outputs": [],
   "source": [
    "BMI = can nang / (chieu cao ** 2)"
   ]
  },
  {
   "cell_type": "code",
   "execution_count": null,
   "id": "72f9f6ee-91dc-4624-a84d-e2156834d711",
   "metadata": {},
   "outputs": [],
   "source": [
    "print(\"Chỉ số BMI của bạn là:\", BMI)"
   ]
  },
  {
   "cell_type": "markdown",
   "id": "53c5d9ea-367e-4dd3-8aa1-9b00f62d718e",
   "metadata": {},
   "source": [
    "## Bài 9"
   ]
  },
  {
   "cell_type": "code",
   "execution_count": null,
   "id": "bf5176e2-96b5-4449-9518-0c2565a8b8ab",
   "metadata": {},
   "outputs": [],
   "source": [
    "print(\"\"\"\n",
    "========Menu========\n",
    "1. Hu tieu\n",
    "2. Chao long\n",
    "3. Banh canh\n",
    "4. Bun rieu\n",
    "5. Pho bo\n",
    "=====================\n",
    "Moi nhap lua chon:\n",
    "=====================\n",
    "\"\"\")\n",
    "\n",
    "lua_chon = int(input(\"Nhập vào lựa chọn của bạn: \"))"
   ]
  },
  {
   "cell_type": "markdown",
   "id": "4eeae680-86fd-4f6f-956d-4bdae0e48491",
   "metadata": {},
   "source": [
    "## Bài 10"
   ]
  },
  {
   "cell_type": "code",
   "execution_count": null,
   "id": "dac77910-a05b-493a-8233-13745022d3dd",
   "metadata": {},
   "outputs": [],
   "source": [
    "so_xe = input(\"Nhập số xe (gồm 4 chữ số): \")"
   ]
  },
  {
   "cell_type": "code",
   "execution_count": null,
   "id": "39971c7c-7db8-4093-b73d-4a340e1e9929",
   "metadata": {},
   "outputs": [],
   "source": [
    "tong_chu_so = sum(int(chu_so) for chu_so in so_xe)"
   ]
  },
  {
   "cell_type": "code",
   "execution_count": null,
   "id": "f27a7c6c-1fff-429e-b46f-924daa1dd860",
   "metadata": {},
   "outputs": [],
   "source": [
    "so_nut = tong_chu_so % 10"
   ]
  },
  {
   "cell_type": "code",
   "execution_count": null,
   "id": "1be99e19-ddbb-473b-b1a6-93e09f7711f0",
   "metadata": {},
   "outputs": [],
   "source": [
    "print(f\"Số xe của bạn có {so_nut} nút.\")"
   ]
  },
  {
   "cell_type": "markdown",
   "id": "6b42ad1a-1019-4bd9-87ca-120fcacf7cc9",
   "metadata": {},
   "source": [
    "## Bài 11 "
   ]
  },
  {
   "cell_type": "code",
   "execution_count": 18,
   "id": "f1ad0574-1b2f-4801-95a4-5fe44c0e0741",
   "metadata": {},
   "outputs": [
    {
     "name": "stdin",
     "output_type": "stream",
     "text": [
      "Nhập một ký tự chữ thường:  e\n"
     ]
    }
   ],
   "source": [
    "ky_tu_thuong = input(\"Nhập một ký tự chữ thường: \")"
   ]
  },
  {
   "cell_type": "code",
   "execution_count": 20,
   "id": "c29ceb81-3a75-4f50-82aa-0760e1a28862",
   "metadata": {},
   "outputs": [],
   "source": [
    "ky_tu_hoa = chr(ord(ky_tu_thuong) - 32)"
   ]
  },
  {
   "cell_type": "code",
   "execution_count": 22,
   "id": "b17c3844-16ad-4745-8af5-7c36ffd8cb23",
   "metadata": {},
   "outputs": [
    {
     "name": "stdout",
     "output_type": "stream",
     "text": [
      "Ký tự chữ hoa tương ứng là: E\n"
     ]
    }
   ],
   "source": [
    "print(f\"Ký tự chữ hoa tương ứng là: {ky_tu_hoa}\")"
   ]
  },
  {
   "cell_type": "markdown",
   "id": "03bc6bc5-2c68-40b5-b0de-1c3774d6819e",
   "metadata": {},
   "source": [
    "## Bài 12"
   ]
  },
  {
   "cell_type": "code",
   "execution_count": null,
   "id": "cf7c1206-b7ca-459e-a124-444d6b5f7481",
   "metadata": {},
   "outputs": [],
   "source": [
    "import random"
   ]
  },
  {
   "cell_type": "code",
   "execution_count": null,
   "id": "f32eb946-c3dd-4a41-9726-f3d23c37d32d",
   "metadata": {},
   "outputs": [],
   "source": [
    "a = random.randint(0, 100)\n",
    "b = random.randint(50, 99)\n",
    "c = random.randint(-39, 79)\n",
    "d = random.randint(-79, -39)"
   ]
  },
  {
   "cell_type": "code",
   "execution_count": null,
   "id": "1c8b307f-a1b3-4cfd-856e-3e6cb8a716e8",
   "metadata": {},
   "outputs": [],
   "source": [
    "print(\"Số ngẫu nhiên từ 0 đến 100:\", a)\n",
    "print(\"Số ngẫu nhiên từ 50 đến 99:\", b)\n",
    "print(\"Số ngẫu nhiên từ -39 đến 79:\", c)\n",
    "print(\"Số ngẫu nhiên từ -79 đến -39:\", d)"
   ]
  },
  {
   "cell_type": "markdown",
   "id": "0def59e1-1fd3-4b71-9887-3da3e7159fe4",
   "metadata": {},
   "source": [
    "## Bài 13"
   ]
  },
  {
   "cell_type": "code",
   "execution_count": null,
   "id": "74a881a6-f1b9-403b-8519-aefaf0998868",
   "metadata": {},
   "outputs": [],
   "source": [
    "ngay = int(input(\"Nhập ngày sinh: \"))\n",
    "thang = int(input(\"Nhập tháng sinh: \"))\n",
    "nam = int(input(\"Nhập năm sinh: \"))"
   ]
  },
  {
   "cell_type": "code",
   "execution_count": null,
   "id": "ba032880-b5be-4df8-b6c4-3dc35fc00ccd",
   "metadata": {},
   "outputs": [],
   "source": [
    "print(f\"{ngay}/{thang}/{nam}\")"
   ]
  },
  {
   "cell_type": "code",
   "execution_count": null,
   "id": "d233821c-905c-4d2d-a0f7-08595c99d65e",
   "metadata": {},
   "outputs": [],
   "source": [
    "print(f\"{ngay}/{thang}/{str(nam)[-2:]}\")"
   ]
  },
  {
   "cell_type": "code",
   "execution_count": null,
   "id": "5dcb4eb6-8894-42b5-96fa-a89bbb37ad09",
   "metadata": {},
   "outputs": [],
   "source": [
    "print(f\"{nam}/{thang}/{ngay}\")"
   ]
  },
  {
   "cell_type": "code",
   "execution_count": null,
   "id": "02ed1bbc-a9e5-4358-af5c-3fb699f58d2a",
   "metadata": {},
   "outputs": [],
   "source": [
    "print(f\"{ngay}/{thang}/{nam}\")"
   ]
  },
  {
   "cell_type": "markdown",
   "id": "e2a1f527-9005-485e-8a3b-175014c2b66f",
   "metadata": {},
   "source": [
    "## Bài 14"
   ]
  },
  {
   "cell_type": "code",
   "execution_count": null,
   "id": "46c9a3ca-e99d-4393-a624-abb17e5cb1e6",
   "metadata": {},
   "outputs": [],
   "source": [
    "A = (32)**0.2 - (1/64)**0.25 + (8/27)**(1/3)"
   ]
  },
  {
   "cell_type": "code",
   "execution_count": null,
   "id": "8d098752-b814-47e5-b030-22767fd3a63e",
   "metadata": {},
   "outputs": [],
   "source": [
    "print(\"Giá trị của biểu thức A là:\", A)"
   ]
  },
  {
   "cell_type": "markdown",
   "id": "f219cdc7-66c1-4d41-b39c-3a18163dd24d",
   "metadata": {},
   "source": [
    "## Bài 15"
   ]
  },
  {
   "cell_type": "code",
   "execution_count": null,
   "id": "6f2bcf13-37d4-4784-8e81-7d9246933a5b",
   "metadata": {},
   "outputs": [],
   "source": [
    "import math"
   ]
  },
  {
   "cell_type": "code",
   "execution_count": null,
   "id": "a8a3a358-6929-4b42-ade9-3ae2a711a6f8",
   "metadata": {},
   "outputs": [],
   "source": [
    "a = float(input(\"Nhập số a: \"))\n",
    "b = float(input(\"Nhập số b: \"))"
   ]
  },
  {
   "cell_type": "code",
   "execution_count": null,
   "id": "b2ce2796-d48f-4ca2-9516-b32e63052a3d",
   "metadata": {},
   "outputs": [],
   "source": [
    "cbrt_a = math.pow(a, 1/3)\n",
    "cbrt_b = math.pow(b, 1/3)\n",
    "cbrt_ab = math.pow(a * b, 1/3)"
   ]
  },
  {
   "cell_type": "code",
   "execution_count": null,
   "id": "9050b16d-113c-417b-a5e7-bb480703d7eb",
   "metadata": {},
   "outputs": [],
   "source": [
    "numerator = a + b / cbrt_a + cbrt_b - cbrt_ab\n",
    "denominator = math.pow(cbrt_a - cbrt_b, 2)"
   ]
  },
  {
   "cell_type": "code",
   "execution_count": null,
   "id": "41d285b3-c523-4536-bba0-ea981031e340",
   "metadata": {},
   "outputs": [],
   "source": [
    "result = numerator / denominator"
   ]
  },
  {
   "cell_type": "code",
   "execution_count": null,
   "id": "d3592327-7657-41dd-b3de-16ad3afa91cb",
   "metadata": {},
   "outputs": [],
   "source": [
    "print(\"Giá trị của biểu thức là:\", result)"
   ]
  },
  {
   "cell_type": "markdown",
   "id": "6386aca2-997c-45fe-9955-7f474062d9e6",
   "metadata": {},
   "source": [
    "## Bài 16"
   ]
  },
  {
   "cell_type": "code",
   "execution_count": null,
   "id": "0866e9f9-f327-4795-b451-a2cc90b6d32f",
   "metadata": {},
   "outputs": [],
   "source": [
    "gio = int(input(\"Nhập số giờ: \"))\n",
    "phut = int(input(\"Nhập số phút: \"))\n",
    "giay = int(input(\"Nhập số giây: \"))"
   ]
  },
  {
   "cell_type": "code",
   "execution_count": null,
   "id": "91065ee3-7fdf-45c5-9a38-0e5cb075f0b5",
   "metadata": {},
   "outputs": [],
   "source": [
    "tong_giay = gio * 3600 + phut * 60 + giay"
   ]
  },
  {
   "cell_type": "code",
   "execution_count": null,
   "id": "7bff40f8-9bea-4ebc-9476-44af16285d44",
   "metadata": {},
   "outputs": [],
   "source": [
    "print(\"Tổng số giây là:\", tong_giay)"
   ]
  },
  {
   "cell_type": "markdown",
   "id": "beca1164-f2ec-426e-b35c-4610e7cc5701",
   "metadata": {},
   "source": [
    "## Bài 17"
   ]
  },
  {
   "cell_type": "code",
   "execution_count": null,
   "id": "31c983a4-8b7c-47dc-bac3-c30d98c457a6",
   "metadata": {},
   "outputs": [],
   "source": [
    "a = int(input(\"Nhập số nguyên thứ nhất: \"))\n",
    "b = int(input(\"Nhập số nguyên thứ hai: \"))\n",
    "c = int(input(\"Nhập số nguyên thứ ba: \"))"
   ]
  },
  {
   "cell_type": "code",
   "execution_count": null,
   "id": "41ef6021-cfaa-427e-b12c-13f73f7fc767",
   "metadata": {},
   "outputs": [],
   "source": [
    "so_lon_nhat = max(a, b, c)\n",
    "so_nho_nhat = min(a, b, c)"
   ]
  },
  {
   "cell_type": "code",
   "execution_count": null,
   "id": "4ae3d74c-627a-4571-a24e-32333ebd2168",
   "metadata": {},
   "outputs": [],
   "source": [
    "print(\"Số lớn nhất là:\", so_lon_nhat)\n",
    "print(\"Số nhỏ nhất là:\", so_nho_nhat)"
   ]
  },
  {
   "cell_type": "markdown",
   "id": "30b8c9b5-00d5-44ff-8d1f-54116f5c7f7d",
   "metadata": {},
   "source": [
    "## Bài 18"
   ]
  },
  {
   "cell_type": "code",
   "execution_count": 4,
   "id": "e21764e3-52dd-4f07-89d9-996973ac25e5",
   "metadata": {},
   "outputs": [],
   "source": [
    "def time_to_seconds(hours, minutes, seconds):\n",
    "    return hours * 3600 + minutes * 60 + seconds\n",
    "\n",
    "def seconds_to_time(total_seconds):\n",
    "    hours = total_seconds // 3600\n",
    "    minutes = (total_seconds % 3600) // 60\n",
    "    seconds = total_seconds % 60\n",
    "    return hours, minutes, seconds"
   ]
  },
  {
   "cell_type": "code",
   "execution_count": 6,
   "id": "4a918cd1-12d8-4a46-af9e-d9e43ac1bd8d",
   "metadata": {},
   "outputs": [
    {
     "name": "stdin",
     "output_type": "stream",
     "text": [
      "Nhập giờ thứ nhất:  1\n",
      "Nhập phút thứ nhất:  2\n",
      "Nhập giây thứ nhất:  1\n"
     ]
    }
   ],
   "source": [
    "gio1 = int(input(\"Nhập giờ thứ nhất: \"))\n",
    "phut1 = int(input(\"Nhập phút thứ nhất: \"))\n",
    "giay1 = int(input(\"Nhập giây thứ nhất: \"))"
   ]
  },
  {
   "cell_type": "code",
   "execution_count": 8,
   "id": "f7f22e35-6b25-42a4-90ea-dd2db15265da",
   "metadata": {},
   "outputs": [
    {
     "name": "stdin",
     "output_type": "stream",
     "text": [
      "Nhập giờ thứ hai:  1\n",
      "Nhập phút thứ hai:  1\n",
      "Nhập giây thứ hai:  3\n"
     ]
    }
   ],
   "source": [
    "gio2 = int(input(\"Nhập giờ thứ hai: \"))\n",
    "phut2 = int(input(\"Nhập phút thứ hai: \"))\n",
    "giay2 = int(input(\"Nhập giây thứ hai: \"))"
   ]
  },
  {
   "cell_type": "code",
   "execution_count": 10,
   "id": "27232eb1-8250-4d5d-b435-174829d0bf22",
   "metadata": {},
   "outputs": [],
   "source": [
    "total_seconds1 = time_to_seconds(gio1, phut1, giay1)\n",
    "total_seconds2 = time_to_seconds(gio2, phut2, giay2)"
   ]
  },
  {
   "cell_type": "code",
   "execution_count": 12,
   "id": "0af561ab-e97e-49ac-b615-dfd6c4162a11",
   "metadata": {},
   "outputs": [],
   "source": [
    "total_seconds_sum = total_seconds1 + total_seconds2\n",
    "gio_sum, phut_sum, giay_sum = seconds_to_time(total_seconds_sum)"
   ]
  },
  {
   "cell_type": "code",
   "execution_count": 14,
   "id": "2dd8eee0-a7e1-4f41-927e-a163d0b6bbbf",
   "metadata": {},
   "outputs": [],
   "source": [
    "total_seconds_diff = abs(total_seconds1 - total_seconds2)\n",
    "gio_diff, phut_diff, giay_diff = seconds_to_time(total_seconds_diff)"
   ]
  },
  {
   "cell_type": "code",
   "execution_count": 16,
   "id": "7ce6d890-27b7-41f8-b008-ff1f90090651",
   "metadata": {},
   "outputs": [
    {
     "name": "stdout",
     "output_type": "stream",
     "text": [
      "Tổng giờ: 2h3p4s\n",
      "Hiệu giờ: 0h0p58s\n"
     ]
    }
   ],
   "source": [
    "print(f\"Tổng giờ: {gio_sum}h{phut_sum}p{giay_sum}s\")\n",
    "print(f\"Hiệu giờ: {gio_diff}h{phut_diff}p{giay_diff}s\")"
   ]
  },
  {
   "cell_type": "code",
   "execution_count": null,
   "id": "bfa2c4f1-0656-4146-b023-c8f2ab0fd7f8",
   "metadata": {},
   "outputs": [],
   "source": []
  },
  {
   "cell_type": "code",
   "execution_count": null,
   "id": "f8248a51-ddd7-4ad2-b3d4-270f9e4d1511",
   "metadata": {},
   "outputs": [],
   "source": []
  },
  {
   "cell_type": "code",
   "execution_count": null,
   "id": "0e3a9a82-eff6-4c8b-9c88-d558d01d0583",
   "metadata": {},
   "outputs": [],
   "source": []
  },
  {
   "cell_type": "code",
   "execution_count": null,
   "id": "5075946f-a6e1-4b6f-97f3-0cf8cee4724c",
   "metadata": {},
   "outputs": [],
   "source": []
  },
  {
   "cell_type": "code",
   "execution_count": null,
   "id": "f4a42d36-20bf-48db-ac4b-29c5b7e20fbf",
   "metadata": {},
   "outputs": [],
   "source": []
  },
  {
   "cell_type": "code",
   "execution_count": null,
   "id": "330141b2-6e6d-4cc2-9def-c6b39576fe0e",
   "metadata": {},
   "outputs": [],
   "source": []
  },
  {
   "cell_type": "code",
   "execution_count": null,
   "id": "f947fc1b-9f07-4e8d-83f1-c355952900f6",
   "metadata": {},
   "outputs": [],
   "source": []
  },
  {
   "cell_type": "code",
   "execution_count": null,
   "id": "70dce72b-0bc1-4bc9-a0e8-f0e098397a12",
   "metadata": {},
   "outputs": [],
   "source": []
  },
  {
   "cell_type": "code",
   "execution_count": null,
   "id": "a9ca43e1-304f-416d-a9b4-060e32562bc2",
   "metadata": {},
   "outputs": [],
   "source": []
  }
 ],
 "metadata": {
  "kernelspec": {
   "display_name": "Python 3 (ipykernel)",
   "language": "python",
   "name": "python3"
  },
  "language_info": {
   "codemirror_mode": {
    "name": "ipython",
    "version": 3
   },
   "file_extension": ".py",
   "mimetype": "text/x-python",
   "name": "python",
   "nbconvert_exporter": "python",
   "pygments_lexer": "ipython3",
   "version": "3.11.7"
  }
 },
 "nbformat": 4,
 "nbformat_minor": 5
}
