{
 "cells": [
  {
   "cell_type": "markdown",
   "id": "c1943eca-8118-4f09-be3a-4ae8902eca44",
   "metadata": {},
   "source": [
    "# 1.Tính trung bình cộng của 4 số nguyên:\n"
   ]
  },
  {
   "cell_type": "code",
   "execution_count": null,
   "id": "8920639b-7618-45af-a74f-92f0afd84c80",
   "metadata": {},
   "outputs": [],
   "source": [
    "# Nhập vào 4 số nguyên\n",
    "a = int(input(\"Nhập số nguyên thứ nhất: \"))\n",
    "b = int(input(\"Nhập số nguyên thứ hai: \"))\n",
    "c = int(input(\"Nhập số nguyên thứ ba: \"))\n",
    "d = int(input(\"Nhập số nguyên thứ tư: \"))\n",
    "\n",
    "# Tính trung bình cộng\n",
    "trung_binh_cong = (a + b + c + d) / 4\n",
    "\n",
    "# In kết quả\n",
    "print(f\"Trung bình cộng của 4 số là: {trung_binh_cong}\")"
   ]
  },
  {
   "cell_type": "markdown",
   "id": "1b777081-44c6-4bd6-9d51-9a40e0c78801",
   "metadata": {},
   "source": [
    "# 2.Tính tổng, hiệu, tích, thương, chia lấy dư, chia lấy nguyên của 2 số nguyên:"
   ]
  },
  {
   "cell_type": "code",
   "execution_count": null,
   "id": "0b46dbc6-be0d-4a2d-a08f-8874dfdbf9d4",
   "metadata": {},
   "outputs": [],
   "source": [
    "# Nhập vào 2 số nguyên\n",
    "a = int(input(\"Nhập số nguyên thứ nhất: \"))\n",
    "b = int(input(\"Nhập số nguyên thứ hai: \"))\n",
    "\n",
    "# Tính toán các phép toán\n",
    "tong = a + b\n",
    "hieu = a - b\n",
    "tich = a * b\n",
    "thuong = round(a / b, 2)\n",
    "thuong_3_chu_so = round(a / b, 3)\n",
    "chia_lay_du = a % b\n",
    "chia_lay_nguyen = a // b\n",
    "\n",
    "# In kết quả\n",
    "print(f\"Tổng của {a} và {b} là: {tong}\")\n",
    "print(f\"Hiệu của {a} và {b} là: {hieu}\")\n",
    "print(f\"Tích của {a} và {b} là: {tich}\")\n",
    "print(f\"Thương của {a} và {b} là: {thuong} (làm tròn 2 chữ số)\")\n",
    "print(f\"Thương của {a} và {b} là: {thuong_3_chu_so} (làm tròn 3 chữ số)\")\n",
    "print(f\"Chia lấy dư của {a} và {b} là: {chia_lay_du}\")\n",
    "print(f\"Chia lấy nguyên của {a} và {b} là: {chia_lay_nguyen}\")\n"
   ]
  },
  {
   "cell_type": "markdown",
   "id": "27c4ea03-71f7-454e-ae26-e741c6729d4d",
   "metadata": {},
   "source": [
    "# 3.Xuất tổng các chữ số của số nguyên dương N có 2 chữ số:\n"
   ]
  },
  {
   "cell_type": "code",
   "execution_count": null,
   "id": "0447e711-2bba-4f4f-80d9-cccb94a5dcbd",
   "metadata": {},
   "outputs": [],
   "source": [
    "# Nhập vào số nguyên dương N có 2 chữ số\n",
    "N = int(input(\"Nhập số nguyên dương N có 2 chữ số: \"))\n",
    "\n",
    "# Tách các chữ số và tính tổng\n",
    "hang_chuc = N // 10\n",
    "hang_don_vi = N % 10\n",
    "tong_cac_chu_so = hang_chuc + hang_don_vi\n",
    "\n",
    "# In kết quả\n",
    "print(f\"Tổng các chữ số của {N} là: {hang_chuc} + {hang_don_vi} = {tong_cac_chu_so}\")\n"
   ]
  },
  {
   "cell_type": "markdown",
   "id": "b58bef3a-29c9-42a4-bdba-75020e6bfa70",
   "metadata": {},
   "source": [
    "# 4.Đổi giờ, phút, giây ra giây:\n"
   ]
  },
  {
   "cell_type": "code",
   "execution_count": null,
   "id": "6dc39a6f-a1d8-481a-b71a-823b68806b30",
   "metadata": {},
   "outputs": [],
   "source": [
    "# Nhập vào giờ, phút, giây\n",
    "gio = int(input(\"Nhập giờ: \"))\n",
    "phut = int(input(\"Nhập phút: \"))\n",
    "giay = int(input(\"Nhập giây: \"))\n",
    "\n",
    "# Đổi ra giây\n",
    "tong_giay = gio * 3600 + phut * 60 + giay\n",
    "\n",
    "# In kết quả\n",
    "print(f\"Tổng số giây là: {tong_giay}\")\n"
   ]
  },
  {
   "cell_type": "markdown",
   "id": "840c1932-97d1-4f3c-8541-4aed8a3b7e0e",
   "metadata": {},
   "source": [
    "# 5.Tính tuổi dựa vào năm sinh:\n"
   ]
  },
  {
   "cell_type": "code",
   "execution_count": null,
   "id": "8d7c642e-6bd2-40d3-8fdd-fddb094e5448",
   "metadata": {},
   "outputs": [],
   "source": [
    "# Nhập vào năm sinh\n",
    "nam_sinh = int(input(\"Nhập năm sinh của bạn: \"))\n",
    "\n",
    "# Tính tuổi\n",
    "nam_hien_tai = 2023\n",
    "tuoi = nam_hien_tai - nam_sinh\n",
    "\n",
    "# In kết quả\n",
    "print(f\"Bạn sinh năm {nam_sinh}, vậy bạn {tuoi} tuổi.\")\n"
   ]
  },
  {
   "cell_type": "markdown",
   "id": "ab8d816c-1e72-474f-8cb5-b0bb6d5e48e1",
   "metadata": {},
   "source": [
    "# 6.In ra phương trình bậc 2 dạng ax^2 + bx + c = 0:\n"
   ]
  },
  {
   "cell_type": "code",
   "execution_count": null,
   "id": "49b22550-1ae1-4238-ab05-9ce38974324a",
   "metadata": {},
   "outputs": [],
   "source": [
    "# Nhập vào 3 số a, b, c\n",
    "a = int(input(\"Nhập số a: \"))\n",
    "b = int(input(\"Nhập số b: \"))\n",
    "c = int(input(\"Nhập số c: \"))\n",
    "\n",
    "# In ra phương trình bậc 2\n",
    "print(f\"{a}x^2 + {b}x + {c} = 0\")\n"
   ]
  },
  {
   "cell_type": "markdown",
   "id": "5dd6f9ea-bf88-4116-917a-be1fc6c2ffb7",
   "metadata": {},
   "source": [
    "# 7.In ra menu lựa chọn:\n"
   ]
  },
  {
   "cell_type": "code",
   "execution_count": null,
   "id": "bd13f4c5-1bcb-41b3-a5c4-924bff6220f3",
   "metadata": {},
   "outputs": [],
   "source": [
    "# In ra menu lựa chọn\n",
    "menu = \"\"\"\n",
    "=========Menu========\n",
    "1. Hu tieu\n",
    "2. Chao long\n",
    "3. Banh canh\n",
    "4. Bun rieu\n",
    "5. Pho bo\n",
    "===================\n",
    "Moi nhap lua chon \n",
    "===================\n",
    "\"\"\"\n",
    "print(menu)\n"
   ]
  },
  {
   "cell_type": "markdown",
   "id": "dff993ec-1f95-42da-869d-fb8a1aba2f19",
   "metadata": {},
   "source": [
    "# 8.Tính chu vi và diện tích của hình tròn:\n"
   ]
  },
  {
   "cell_type": "code",
   "execution_count": null,
   "id": "efbc0dec-de72-49cd-928b-6de3d8614c95",
   "metadata": {},
   "outputs": [],
   "source": [
    "import math\n",
    "\n",
    "# Nhập bán kính của đường tròn\n",
    "r = float(input(\"Nhập bán kính của đường tròn: \"))\n",
    "\n",
    "# Tính chu vi và diện tích\n",
    "chu_vi = 2 * math.pi * r\n",
    "dien_tich = math.pi * r**2\n",
    "\n",
    "# In kết quả\n",
    "print(f\"Chu vi của hình tròn là: {chu_vi}\")\n",
    "print(f\"Diện tích của hình tròn là: {dien_tich}\")\n"
   ]
  },
  {
   "cell_type": "markdown",
   "id": "10aed097-2bc1-40aa-b82d-664dc7021515",
   "metadata": {},
   "source": [
    "# 9.Tính chỉ số BMI:\n"
   ]
  },
  {
   "cell_type": "code",
   "execution_count": null,
   "id": "d4a19d4d-482c-40e6-83ef-9ae8a9bf7bb5",
   "metadata": {},
   "outputs": [],
   "source": [
    "# Nhập cân nặng và chiều cao\n",
    "can_nang = float(input(\"Nhập cân nặng (kg): \"))\n",
    "chieu_cao = float(input(\"Nhập chiều cao (m): \"))\n",
    "\n",
    "# Tính chỉ số BMI\n",
    "BMI = can_nang / (chieu_cao ** 2)\n",
    "\n",
    "# In kết quả\n",
    "print(f\"Chỉ số BMI của bạn là: {BMI}\")\n"
   ]
  },
  {
   "cell_type": "markdown",
   "id": "4b5e52c7-36c7-40e9-8f26-54ca6da1dcdf",
   "metadata": {},
   "source": [
    "# 10.Tính số nút của số xe:\n"
   ]
  },
  {
   "cell_type": "code",
   "execution_count": null,
   "id": "0b80b0fa-4db5-4b01-bf77-bf1cd7f0d8a7",
   "metadata": {},
   "outputs": [],
   "source": [
    "# Nhập vào số xe gồm 5 chữ số\n",
    "so_xe = input(\"Nhập số xe (gồm 5 chữ số): \")\n",
    "\n",
    "# Tính số nút\n",
    "so_nut = sum(int(chu_so) for chu_so in so_xe)\n",
    "\n",
    "# In kết quả\n",
    "print(f\"Số xe có {so_nut % 10} nút\")\n"
   ]
  },
  {
   "cell_type": "markdown",
   "id": "3a537942-4374-4a2a-b87e-eae389bdd97c",
   "metadata": {},
   "source": [
    "# 11.In ra ký tự chữ hoa tương ứng:\n"
   ]
  },
  {
   "cell_type": "code",
   "execution_count": null,
   "id": "bc600a17-a980-482b-b1ba-6148033c719f",
   "metadata": {},
   "outputs": [],
   "source": [
    "# Nhập vào ký tự chữ thường\n",
    "chu_thuong = input(\"Nhập ký tự chữ thường: \")\n",
    "\n",
    "# Chuyển đổi thành chữ hoa\n",
    "chu_hoa = chu_thuong.upper()\n",
    "\n",
    "# In kết quả\n",
    "print(f\"Ký tự chữ hoa tương ứng là: {chu_hoa}\")\n"
   ]
  },
  {
   "cell_type": "markdown",
   "id": "76ab1bce-c35c-4a34-95f1-3babb500e38a",
   "metadata": {},
   "source": [
    "# 12.Xuất ra số ngẫu nhiên:\n"
   ]
  },
  {
   "cell_type": "code",
   "execution_count": null,
   "id": "334a0621-fda9-4165-8d9d-12c5bf2c3d52",
   "metadata": {},
   "outputs": [],
   "source": [
    "import random\n",
    "\n",
    "# Xuất ra số ngẫu nhiên từ 0 đến 100\n",
    "so_ngau_nhien_0_100 = random.randint(0, 100)\n",
    "print(f\"Số ngẫu nhiên từ 0 đến 100: {so_ngau_nhien_0_100}\")\n",
    "\n",
    "# Xuất ra số ngẫu nhiên từ 50 đến 99\n",
    "so_ngau_nhien_50_99 = random.randint(50, 99)\n",
    "print(f\"Số ngẫu nhiên từ 50 đến 99: {so_ngau_nhien_50_99}\")\n",
    "\n",
    "# Xuất ra số ngẫu nhiên từ -39 đến 79\n",
    "so_ngau_nhien_m39_79 = random.randint(-39, 79)\n",
    "print(f\"Số ngẫu nhiên từ -39 đến 79: {so_ngau_nhien_m39_79}\")\n",
    "\n",
    "# Xuất ra số ngẫu nhiên từ -79 đến -39\n",
    "so_ngau_nhien_m79_m39 = random.randint(-79, -39)\n",
    "print(f\"Số ngẫu nhiên từ -79 đến -39: {so_ngau_nhien_m79_m39}\")\n"
   ]
  },
  {
   "cell_type": "markdown",
   "id": "e0c36eba-196b-4a9a-ab9f-abaf2879350c",
   "metadata": {},
   "source": [
    "# Bài tập chuỗi\n",
    "# bài 1"
   ]
  },
  {
   "cell_type": "code",
   "execution_count": null,
   "id": "84ce804d-93a6-48d9-ad64-d570f07bce07",
   "metadata": {},
   "outputs": [],
   "source": [
    "#Tách thành các sub-string:\n",
    "chuoi = \"Đại học Quốc gia, Khu phố 6, P. Linh Trung, Q. Thủ Đức, Tp. HCM\"\n",
    "sub_strings = chuoi.split(\", \")\n",
    "\n",
    "# In kết quả\n",
    "for sub in sub_strings:\n",
    "    print(sub)\n"
   ]
  },
  {
   "cell_type": "code",
   "execution_count": null,
   "id": "4fc33958-9ce1-47c5-9a77-f8b8c8bd6bd3",
   "metadata": {},
   "outputs": [],
   "source": [
    "#Tách thành các sub-string theo định dạng thứ hai:\n",
    "chuoi = \"Đại học Quốc gia, Khu phố 6, P. Linh Trung, Q. Thủ Đức, Tp. HCM\"\n",
    "sub_strings = chuoi.split(\", \")\n",
    "\n",
    "# In kết quả\n",
    "print(sub_strings[0])\n",
    "print(f\"- {sub_strings[1]}\")\n",
    "print(f\"- {sub_strings[2].split()[1]}\")  # Chỉ lấy \"Linh Trung\"\n",
    "print(f\"- {sub_strings[3].split()[1]}\")  # Chỉ lấy \"Thủ Đức\"\n",
    "print(sub_strings[4].split()[1])  # Chỉ lấy \"HCM\"\n"
   ]
  },
  {
   "cell_type": "markdown",
   "id": "919b7a4a-016a-4482-a38d-5d94b442f1ff",
   "metadata": {},
   "source": [
    "# bài 2"
   ]
  },
  {
   "cell_type": "code",
   "execution_count": 39,
   "id": "64aa9734-f7fc-42a0-926f-bb3f2eaed1f8",
   "metadata": {},
   "outputs": [
    {
     "name": "stdout",
     "output_type": "stream",
     "text": [
      "“Công Nghệ Thông Tin”\n",
      "\"CÔNG NGHỆ THÔNG TIN\"\n",
      "\"CÔNG NGHỆ THÔNG TIN\"\n",
      "\"Công nghệ thông tin\"\n"
     ]
    }
   ],
   "source": [
    "# Chuỗi ban đầu\n",
    "original_string = \"công nghệ thông tin\"\n",
    "\n",
    "# 1. Chuyển thành \"Công Nghệ Thông Tin\" (chuỗi với mỗi từ viết hoa chữ cái đầu)\n",
    "title_case = original_string.strip().title()\n",
    "\n",
    "# 2. Chuyển thành \" CÔNG NGHỆ THÔNG TIN\" (chuỗi in hoa)\n",
    "upper_case = original_string.upper()\n",
    "\n",
    "# 3. Chuyển thành \"cÔNG nGHỆ tHÔNG tIN\" (chuỗi với mỗi chữ cái đầu tiên viết thường, các chữ cái còn lại viết hoa)\n",
    "inverted_case = ''.join([char.lower() if char.isupper() else char.upper() for char in original_string])\n",
    "\n",
    "# 4. Chuyển thành \"Công nghệ thông tin\" (chuỗi với chữ cái đầu của chuỗi viết hoa)\n",
    "capitalized = original_string.strip().capitalize()\n",
    "\n",
    "# In kết quả\n",
    "print(\"“\" + title_case + \"”\")\n",
    "print('\"' + upper_case + '\"')\n",
    "print('\"' + inverted_case + '\"')\n",
    "print('\"' + capitalized + '\"')\n"
   ]
  },
  {
   "cell_type": "code",
   "execution_count": null,
   "id": "19cf9754-dc74-4db6-af15-9593b8669bb7",
   "metadata": {},
   "outputs": [],
   "source": []
  },
  {
   "cell_type": "code",
   "execution_count": null,
   "id": "9f873a9f-ca7b-4757-becb-f1fb8a981173",
   "metadata": {},
   "outputs": [],
   "source": []
  },
  {
   "cell_type": "code",
   "execution_count": null,
   "id": "460b9799-9017-4b25-816f-45a7d13a7832",
   "metadata": {},
   "outputs": [],
   "source": []
  },
  {
   "cell_type": "code",
   "execution_count": null,
   "id": "2769f8a7-72c4-4287-b46e-9161e5562be0",
   "metadata": {},
   "outputs": [],
   "source": []
  }
 ],
 "metadata": {
  "kernelspec": {
   "display_name": "Python 3 (ipykernel)",
   "language": "python",
   "name": "python3"
  },
  "language_info": {
   "codemirror_mode": {
    "name": "ipython",
    "version": 3
   },
   "file_extension": ".py",
   "mimetype": "text/x-python",
   "name": "python",
   "nbconvert_exporter": "python",
   "pygments_lexer": "ipython3",
   "version": "3.11.7"
  }
 },
 "nbformat": 4,
 "nbformat_minor": 5
}
