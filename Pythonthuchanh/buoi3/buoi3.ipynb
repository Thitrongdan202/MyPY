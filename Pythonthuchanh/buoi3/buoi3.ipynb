{
 "cells": [
  {
   "cell_type": "markdown",
   "id": "3efb0ff4-6501-4fdb-8efb-2ff9f2e4ec0e",
   "metadata": {},
   "source": [
    "# PHẦN 2. CẤU TRÚC RẼ NHÁNH"
   ]
  },
  {
   "cell_type": "code",
   "execution_count": null,
   "id": "606ec588-1d14-475e-b6d1-530eafa17aed",
   "metadata": {},
   "outputs": [],
   "source": [
    "tuoi = 15\n",
    "tinh_trang_sk = True\n",
    "diem_thi = 79"
   ]
  },
  {
   "cell_type": "code",
   "execution_count": null,
   "id": "40c88994-cef0-43ec-b76b-60d3a803551c",
   "metadata": {},
   "outputs": [],
   "source": [
    "if tuoi >= 18:\n",
    "    print(\"Độ tuổi: Đạt\")\n",
    "    \n",
    "if tinh_trang_sk == True:\n",
    "    print(\"Sức Khoẻ: Đạt\")\n",
    "    \n",
    "if diem_thi >= 80:\n",
    "    print('Điểm thi: Đạt')\n",
    "    "
   ]
  },
  {
   "cell_type": "code",
   "execution_count": null,
   "id": "fb3009f4-8ef0-46b7-a5ac-4775eeb0cc3f",
   "metadata": {},
   "outputs": [],
   "source": [
    "if tuoi >= 18:\n",
    "    print(\"Độ tuổi: Đạt\")\n",
    "else:\n",
    "    print(f\"Tuổi {tuoi}: Không đạt\")\n",
    "\n",
    "if tinh_trang_sk == True:\n",
    "    print(\"Sức Khoẻ: Đạt\")\n",
    "else:\n",
    "    print(\"Sức khoẻ: Không đạt\") \n",
    "\n",
    "if diem_thi >= 80:\n",
    "    print('Điểm thi: Đạt')\n",
    "else:\n",
    "    print(f'Điểm thi {diem_thi}: Không đạt')"
   ]
  },
  {
   "cell_type": "code",
   "execution_count": null,
   "id": "9d5636b9-6b9e-4dc3-9d47-ec1bc1c3b58b",
   "metadata": {},
   "outputs": [],
   "source": [
    "tuoi = 17\n",
    "tinh_trang_sk = True\n",
    "diem_thi = 80"
   ]
  },
  {
   "cell_type": "code",
   "execution_count": null,
   "id": "3a9ca883-58e6-416c-91ab-69865f206483",
   "metadata": {},
   "outputs": [],
   "source": [
    "if tuoi >= 18:\n",
    "    if tinh_trang_sk == True:\n",
    "        if diem_thi >= 80:\n",
    "            print(\"Cấp bằng\")"
   ]
  },
  {
   "cell_type": "code",
   "execution_count": null,
   "id": "54beeb3b-efbd-4243-9262-95d3f5edadff",
   "metadata": {},
   "outputs": [],
   "source": [
    "if tuoi >= 18:\n",
    "    if tinh_trang_sk == True:\n",
    "        if diem_thi >= 80:\n",
    "            print(\"Cấp bằng\")\n",
    "        else:\n",
    "            print(\"Không cấp bằng do Điểm thi\", diem_thi)\n",
    "    else:\n",
    "        print(\"Không cấp bằng do Tình trang sức khoẻ\", tinh_trang_sk)\n",
    "else:\n",
    "    print(\"Không cấp bằng do Tuổi\", tuoi)"
   ]
  },
  {
   "cell_type": "code",
   "execution_count": null,
   "id": "aa7861d0-1085-484f-8b8b-6d982d6544ba",
   "metadata": {},
   "outputs": [],
   "source": [
    "if tuoi>= 18 and tinh_trang_sk == True and diem_thi >=80:\n",
    "    print(\"Cấp bằng\")\n",
    "else:\n",
    "    print(\"Không cấp bằng\")\n",
    "    if not(tuoi >=18):\n",
    "            print(\"Tuổi: Không đạt\")\n",
    "    if not(diem_thi >=80):\n",
    "        print('Điểm thi: Không đạt')"
   ]
  },
  {
   "cell_type": "code",
   "execution_count": null,
   "id": "50bc1835-1b66-4dcb-9e7e-5b5ee9f4d5e1",
   "metadata": {},
   "outputs": [],
   "source": [
    "gpa = float (input(\"Nhập điểm trung bình\"))\n",
    "if 3.5 <= gpa and gpa < 5:\n",
    "    print (\"Học lực yếu\")\n",
    "elif  9 <= gpa <= 10:\n",
    "    print (\"Học lực xuất sắc\")\n",
    "elif 8 <= gpa < 9:\n",
    "    print (\"Học lực giỏi\")\n",
    "elif 7 <= gpa < 8:\n",
    "    print (\"Học lực khá\")    \n",
    "elif 5 <= gpa < 7:\n",
    "    print (\"Học lực trung bình\")\n",
    "elif gpa < 3.5:\n",
    "     print (\"Học lực kém\")\n",
    "else:\n",
    "    print(\"Nhập điểm dưới 10\")\n",
    "\n",
    "    "
   ]
  },
  {
   "cell_type": "code",
   "execution_count": null,
   "id": "048925df-43ae-4940-8eb8-dd95010d70af",
   "metadata": {},
   "outputs": [],
   "source": []
  },
  {
   "cell_type": "code",
   "execution_count": null,
   "id": "f1969f8d-a641-4f04-ade8-3309da724f01",
   "metadata": {},
   "outputs": [],
   "source": [
    "#dd/mm/yy hoặc dd-mm-yy"
   ]
  },
  {
   "cell_type": "code",
   "execution_count": null,
   "id": "99224064-5cb9-4a6c-bbee-175f5b177420",
   "metadata": {},
   "outputs": [],
   "source": [
    "d1 = \"26/6/2024\"\n",
    "d2 = \"26-6-2024\""
   ]
  },
  {
   "cell_type": "code",
   "execution_count": null,
   "id": "ee7a840e-2bbd-4f28-8d0f-a68c0894509a",
   "metadata": {},
   "outputs": [],
   "source": [
    "d = d1.split(\"/\")"
   ]
  },
  {
   "cell_type": "code",
   "execution_count": null,
   "id": "3d570030-5cd8-41bf-8ba0-e9f85b6eb8c3",
   "metadata": {},
   "outputs": [],
   "source": [
    "ngay = int(d[0])\n",
    "thang = int(d[1])\n",
    "nam = int(d[2])"
   ]
  },
  {
   "cell_type": "code",
   "execution_count": null,
   "id": "0eafa8d9-488c-4039-8dd0-991daa1b9c9b",
   "metadata": {},
   "outputs": [],
   "source": [
    "ngay"
   ]
  },
  {
   "cell_type": "code",
   "execution_count": null,
   "id": "359a4c6a-1bed-4054-9475-b5ca195714ae",
   "metadata": {},
   "outputs": [],
   "source": [
    "nguoi = input (\"Người (Kéo, Búa, Bao): \")\n",
    "import random as r\n",
    "may = r.choice(['Kéo', 'Búa', 'Bao'] )\n",
    "print (\"Máy:\", may)\n",
    "print (\"Kết quả:\")\n",
    "\n",
    "if nguoi == \"Kéo\":\n",
    "    if may == \"Kéo\":\n",
    "       print(\"Người hoà máy\")\n",
    "    elif may == \"Búa\":\n",
    "        print(\"Người thua\")\n",
    "    elif may ==  \"Bao\":\n",
    "        print(\"Người thắng\")\n",
    "elif nguoi == \"Búa\":\n",
    "    if may == \"Kéo\":\n",
    "        print(\"Người thắng\")\n",
    "    elif may == \"Búa\":\n",
    "        print(\"Người hoà máy\")\n",
    "    elif may == \"Bao\":\n",
    "        print(\"Người thua\")\n",
    "elif nguoi == \"Bao\":\n",
    "    if may == \"Kéo\":\n",
    "        print(\"Người thua\")\n",
    "    elif may == \"Búa\":\n",
    "        print(\"Người thắng\")\n",
    "    elif may == \"Bao\":\n",
    "        print(\"Người hoà máy\")\n",
    "\n"
   ]
  },
  {
   "cell_type": "markdown",
   "id": "101ef00b-7c40-4c50-bf1b-628b5bc54c13",
   "metadata": {},
   "source": [
    "# PHẦN III. CẤU TRÚC LẶP\n"
   ]
  },
  {
   "cell_type": "code",
   "execution_count": null,
   "id": "703f5f5e-7429-4c0a-aaf5-252c199e4052",
   "metadata": {},
   "outputs": [],
   "source": [
    "t = (2, 6, \"bảy\", 9, 'một')\n",
    "\n",
    "for i in t:\n",
    "    print(i, \"có kiểu là\", type(i))"
   ]
  },
  {
   "cell_type": "code",
   "execution_count": null,
   "id": "efd30829-3614-49a3-8ecf-b16d4382596d",
   "metadata": {},
   "outputs": [],
   "source": [
    "for (start, stop, step)"
   ]
  },
  {
   "cell_type": "code",
   "execution_count": null,
   "id": "1f123337-5760-4cea-8f5b-a3f2b924f369",
   "metadata": {},
   "outputs": [],
   "source": [
    "for  i in range (5, 30, 3):\n",
    "    print(i)"
   ]
  },
  {
   "cell_type": "code",
   "execution_count": null,
   "id": "36fe883a-d2cb-4c60-80fd-350fb56cf380",
   "metadata": {},
   "outputs": [],
   "source": []
  },
  {
   "cell_type": "code",
   "execution_count": null,
   "id": "e8d5beb6-cf83-42da-9535-60048ae42217",
   "metadata": {},
   "outputs": [],
   "source": []
  },
  {
   "cell_type": "code",
   "execution_count": null,
   "id": "6e481c09-7894-4c1e-b345-296ae182c619",
   "metadata": {},
   "outputs": [],
   "source": []
  },
  {
   "cell_type": "code",
   "execution_count": null,
   "id": "7f42477c-0c80-4673-af04-c6ee475d27e8",
   "metadata": {},
   "outputs": [],
   "source": []
  },
  {
   "cell_type": "code",
   "execution_count": null,
   "id": "fb07c5df-1a76-4f4d-b0e6-915740825759",
   "metadata": {},
   "outputs": [],
   "source": []
  },
  {
   "cell_type": "code",
   "execution_count": null,
   "id": "7cc48a0a-f89c-4e1f-8571-15b9eafa08f2",
   "metadata": {},
   "outputs": [],
   "source": []
  },
  {
   "cell_type": "code",
   "execution_count": null,
   "id": "ab9880bf-037f-493b-88c3-cd18abc91115",
   "metadata": {},
   "outputs": [],
   "source": []
  },
  {
   "cell_type": "code",
   "execution_count": null,
   "id": "b6c4e2ac-8f82-41d4-b8eb-4dff5b2f5d2b",
   "metadata": {},
   "outputs": [],
   "source": []
  },
  {
   "cell_type": "code",
   "execution_count": null,
   "id": "ea7c3cdb-7147-48ec-9548-d6fb6a9eff75",
   "metadata": {},
   "outputs": [],
   "source": []
  },
  {
   "cell_type": "code",
   "execution_count": null,
   "id": "58d83499-2a37-4da5-b4a5-e789e44a1054",
   "metadata": {},
   "outputs": [],
   "source": []
  },
  {
   "cell_type": "code",
   "execution_count": null,
   "id": "762474e3-3a6d-4077-87a4-cb10ada8674b",
   "metadata": {},
   "outputs": [],
   "source": []
  },
  {
   "cell_type": "code",
   "execution_count": null,
   "id": "15eb3bde-d4bc-4769-b4a3-5cf1edf1f6d7",
   "metadata": {},
   "outputs": [],
   "source": []
  },
  {
   "cell_type": "code",
   "execution_count": null,
   "id": "5f753465-e988-4372-8316-5d73ffe26122",
   "metadata": {},
   "outputs": [],
   "source": []
  },
  {
   "cell_type": "code",
   "execution_count": null,
   "id": "f7d91b4b-21ae-448b-837c-63dabf0e0107",
   "metadata": {},
   "outputs": [],
   "source": []
  },
  {
   "cell_type": "code",
   "execution_count": null,
   "id": "50647877-7980-451f-9f70-592280880531",
   "metadata": {},
   "outputs": [],
   "source": []
  },
  {
   "cell_type": "code",
   "execution_count": null,
   "id": "e4d8db49-820b-48e3-9f2e-4dc940ba11d0",
   "metadata": {},
   "outputs": [],
   "source": []
  },
  {
   "cell_type": "code",
   "execution_count": null,
   "id": "a3c16a57-3764-4b85-8da9-707eef6d4a1a",
   "metadata": {},
   "outputs": [],
   "source": []
  },
  {
   "cell_type": "code",
   "execution_count": null,
   "id": "3581a329-9151-48a9-9a13-f6715f414b19",
   "metadata": {},
   "outputs": [],
   "source": []
  },
  {
   "cell_type": "code",
   "execution_count": null,
   "id": "0ea82846-6f3a-4d62-a757-96e06e7af5d7",
   "metadata": {},
   "outputs": [],
   "source": []
  },
  {
   "cell_type": "code",
   "execution_count": null,
   "id": "6ff020a3-f1c1-4cb3-89e6-ddf65f373041",
   "metadata": {},
   "outputs": [],
   "source": []
  },
  {
   "cell_type": "code",
   "execution_count": null,
   "id": "aa00afe5-a029-4044-95a2-95dcbaca60f0",
   "metadata": {},
   "outputs": [],
   "source": []
  },
  {
   "cell_type": "code",
   "execution_count": null,
   "id": "b9f77eb1-a32e-40e0-9095-38a8ccb16d1a",
   "metadata": {},
   "outputs": [],
   "source": []
  },
  {
   "cell_type": "code",
   "execution_count": null,
   "id": "28e0a541-b26e-483f-abf5-db933b802b28",
   "metadata": {},
   "outputs": [],
   "source": []
  },
  {
   "cell_type": "code",
   "execution_count": null,
   "id": "2f5c7ee9-bc91-4e7c-9996-7a15e467802b",
   "metadata": {},
   "outputs": [],
   "source": []
  },
  {
   "cell_type": "code",
   "execution_count": null,
   "id": "ff1eaaa8-c06c-4b1e-91c5-9423c9eb0ec6",
   "metadata": {},
   "outputs": [],
   "source": []
  },
  {
   "cell_type": "code",
   "execution_count": null,
   "id": "40c777bd-92b4-43d5-a4ce-9c7ad6397cb2",
   "metadata": {},
   "outputs": [],
   "source": []
  },
  {
   "cell_type": "code",
   "execution_count": null,
   "id": "3872ab23-43f3-44f1-9216-64431dd5666b",
   "metadata": {},
   "outputs": [],
   "source": []
  },
  {
   "cell_type": "code",
   "execution_count": null,
   "id": "a752e530-078c-4022-835a-f01ebee06d2b",
   "metadata": {},
   "outputs": [],
   "source": []
  },
  {
   "cell_type": "code",
   "execution_count": null,
   "id": "46d6aea1-ede8-4662-906f-38e90669ba1c",
   "metadata": {},
   "outputs": [],
   "source": []
  },
  {
   "cell_type": "code",
   "execution_count": null,
   "id": "ce31ccb6-ce0e-455d-8818-bc1e763466aa",
   "metadata": {},
   "outputs": [],
   "source": []
  },
  {
   "cell_type": "code",
   "execution_count": null,
   "id": "95dcc373-4ce5-4c76-b58b-5c19add84507",
   "metadata": {},
   "outputs": [],
   "source": []
  },
  {
   "cell_type": "code",
   "execution_count": null,
   "id": "c26cf786-6a34-4ced-a755-6d9f6c3c83c6",
   "metadata": {},
   "outputs": [],
   "source": []
  },
  {
   "cell_type": "code",
   "execution_count": null,
   "id": "b74f58d9-009a-4f78-8a94-d8daf71d4274",
   "metadata": {},
   "outputs": [],
   "source": []
  },
  {
   "cell_type": "code",
   "execution_count": null,
   "id": "3b079386-7038-4218-82e2-65182493973f",
   "metadata": {},
   "outputs": [],
   "source": []
  },
  {
   "cell_type": "code",
   "execution_count": null,
   "id": "79764a70-98f0-45a8-b299-6f2cb72c947c",
   "metadata": {},
   "outputs": [],
   "source": []
  },
  {
   "cell_type": "code",
   "execution_count": null,
   "id": "144bcf7a-6280-4852-8430-45c30b7b2117",
   "metadata": {},
   "outputs": [],
   "source": []
  },
  {
   "cell_type": "code",
   "execution_count": null,
   "id": "ff4448c1-99be-4704-9df7-a690d727d7df",
   "metadata": {},
   "outputs": [],
   "source": []
  },
  {
   "cell_type": "code",
   "execution_count": null,
   "id": "24b0a6c2-9921-4777-ab25-84caf7da125e",
   "metadata": {},
   "outputs": [],
   "source": []
  },
  {
   "cell_type": "code",
   "execution_count": null,
   "id": "cb6b406c-8cc9-410b-87a8-0384518f4980",
   "metadata": {},
   "outputs": [],
   "source": []
  },
  {
   "cell_type": "code",
   "execution_count": null,
   "id": "baabba79-ddd5-4662-b4ea-a71e80d22d45",
   "metadata": {},
   "outputs": [],
   "source": []
  },
  {
   "cell_type": "code",
   "execution_count": null,
   "id": "cfb7cd42-cee5-49eb-b0c0-f5ff0e788656",
   "metadata": {},
   "outputs": [],
   "source": []
  },
  {
   "cell_type": "code",
   "execution_count": null,
   "id": "b537f0a9-7d9f-4187-82b8-863b8d95c5c3",
   "metadata": {},
   "outputs": [],
   "source": []
  },
  {
   "cell_type": "code",
   "execution_count": null,
   "id": "04f12b72-ae5c-40a2-9884-3a43b5432eb0",
   "metadata": {},
   "outputs": [],
   "source": []
  },
  {
   "cell_type": "code",
   "execution_count": null,
   "id": "f2a973c7-11d5-489d-95ce-28152936eb54",
   "metadata": {},
   "outputs": [],
   "source": []
  },
  {
   "cell_type": "code",
   "execution_count": null,
   "id": "ec8ae4ca-2a73-4987-a5aa-d04d314546c5",
   "metadata": {},
   "outputs": [],
   "source": []
  },
  {
   "cell_type": "code",
   "execution_count": null,
   "id": "e2c4ff58-8e6a-49f9-9759-9ded507a506f",
   "metadata": {},
   "outputs": [],
   "source": []
  },
  {
   "cell_type": "code",
   "execution_count": null,
   "id": "6d2cbf7b-c310-48a9-ab08-9b3ece6f82f0",
   "metadata": {},
   "outputs": [],
   "source": []
  },
  {
   "cell_type": "code",
   "execution_count": null,
   "id": "8b4342fa-e0e7-4983-b500-85807ebad147",
   "metadata": {},
   "outputs": [],
   "source": []
  },
  {
   "cell_type": "code",
   "execution_count": null,
   "id": "95a4c17c-79d1-4e4c-8f7b-a3c21a0909a0",
   "metadata": {},
   "outputs": [],
   "source": []
  },
  {
   "cell_type": "code",
   "execution_count": null,
   "id": "3d6e76be-bca0-4963-8ce9-6b808d557ea8",
   "metadata": {},
   "outputs": [],
   "source": []
  },
  {
   "cell_type": "code",
   "execution_count": null,
   "id": "2557e097-56d5-4949-ad79-adf677c22911",
   "metadata": {},
   "outputs": [],
   "source": []
  },
  {
   "cell_type": "code",
   "execution_count": null,
   "id": "680bee4b-b6cd-4ed7-aae4-e7a52519c117",
   "metadata": {},
   "outputs": [],
   "source": []
  }
 ],
 "metadata": {
  "kernelspec": {
   "display_name": "Python 3 (ipykernel)",
   "language": "python",
   "name": "python3"
  },
  "language_info": {
   "codemirror_mode": {
    "name": "ipython",
    "version": 3
   },
   "file_extension": ".py",
   "mimetype": "text/x-python",
   "name": "python",
   "nbconvert_exporter": "python",
   "pygments_lexer": "ipython3",
   "version": "3.11.7"
  }
 },
 "nbformat": 4,
 "nbformat_minor": 5
}
